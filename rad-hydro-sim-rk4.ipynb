{
 "cells": [
  {
   "attachments": {},
   "cell_type": "markdown",
   "metadata": {},
   "source": [
    "Here I seek to reproduce numerical results from \"Radiation hydrodynamic theory of double ablation fronts in direct-drive inertial confinement fusion\" from J. Sanz; R. Betti; V. A. Smalyuk; ... et. al.\n",
    "Using a numerial Differential equation solver. I use the 4th order runge kutta method to solve and arbritrary differential equation whose structure is defined in f(u, vars)\n"
   ]
  },
  {
   "cell_type": "code",
   "execution_count": 28,
   "metadata": {},
   "outputs": [],
   "source": [
    "import numpy as np\n",
    "import matplotlib.pyplot as plt"
   ]
  },
  {
   "cell_type": "code",
   "execution_count": 29,
   "metadata": {},
   "outputs": [],
   "source": [
    "# runge kutta 4th order \n",
    "def rk4(f, state0, t0, tend, N, vars):\n",
    "  N = int(N)\n",
    "  t = np.linspace(t0, tend, N+1) #t grid\n",
    "  s = np.array((N+1)*[state0]) \n",
    "  dt = (tend-t0)/float(N) #stepsize\n",
    "  for i in range(N):   # fourth order Runge Kutta Metdtod\n",
    "    k0 = dt * f(s[i], vars)  # s[i] is our state at time t containing 3 values\n",
    "    k1 = dt * f(s[i] + 0.5 * k0, vars)\n",
    "    k2 = dt * f(s[i] + 0.5 * k1, vars)\n",
    "    k3 = dt * f(s[i] + k2, vars)\n",
    "    s[i+1] = s[i] + (k0 + 2*(k1 + k2) + k3) / 6.\n",
    "  return t, s\n",
    "\n",
    "# differential equations 10,11,12 from the rad hydro paper\n",
    "def f(u, vars0):\n",
    "  Lsp, Bo, thetat, lp, lr = vars0\n",
    "  q1, q2 = 2.75, 11./2 #from second math paper Sio2 simulation\n",
    "  if u[0] < thetat:\n",
    "    deltat = u[0]**(-q1)\n",
    "  else:\n",
    "    deltat = thetat**(q2-q1)*u[0]**(-q2)\n",
    "\n",
    "  dTheta = (u[0]+u[1]-1)/(Lsp*u[0]**(5/2))\n",
    "  dPhi = (deltat/(lp*Bo))*(u[0]**4-u[2]**4)  \n",
    "  dThetaR = -3*deltat*u[1]*Bo/(4*u[2]**3*lr)\n",
    "  return np.array([dTheta, dPhi, dThetaR])\n",
    "\n",
    "\"\"\"in the Radiation hydrodynamic theory of double ablation fronts in\n",
    "direct-drive inertial confinement fusion paper. The isobaric Rosseland and Planck mean opacities Kp (microns)  vs electron temperature T (ev) for\n",
    "CH shows Kp(T) = A*T(-3.5) for T < Tt and Kp(T) = A*T(-6.8) for T > Tt. where Tt is 100ev\n",
    "thetaT = Tt/Ta\n",
    "\"\"\"\n",
    "\n",
    "\"\"\"\"From the 'Prominent radiative contributions from multiplyexcited states in laser-produced tin plasma for\n",
    "nanolithography' Paper: the planck mean opacity in the case of Sn plasma can be calculated as follow ap = 3.3e-7*rho(g/cm^3)/T(ev) \"\"\"\n",
    "\n",
    "\"\"\"\n",
    "Opacity has units m^2/kg,\n",
    "mean free path has units m\n",
    "1/mean free path is not the opacity !!\n",
    "\n",
    "\"\"\"\n",
    "\n",
    "\"\"\"\n",
    "From figure 19 from math paper 2 \n",
    "approximately photon mean free path = lp(microns) = Exp(-13.55+3.5*T(ev)), rossland mean free path = lr = Exp(-12.8+3.5*T(ev))\n",
    "\n",
    "\n",
    "\"\"\"\n",
    "\n",
    "def change_var(P_a, T_a, K_a, v_a):\n",
    "  # al from second math paper\n",
    "  # Amp is the average ion mass, Z is the average ionization per atom\n",
    "\n",
    "  Lsp = (2./5)*K_a*T_a/(P_a*v_a)\n",
    "  Bo = 6e-10*P_a*v_a/(T_a)**4\n",
    "\n",
    "  # derived from figure 19 from math paper 2\n",
    "  lp = 6.06e-12*T_a**(11/4) # T_a(ev), lp(m)\n",
    "  lr = 13e-12*T_a**(11/4)# T_a(ev), lr(m)\n",
    "  \n",
    "  thetat = 100/T_a # from second math paper\n",
    "  return [Lsp, Bo, thetat, lp, lr]\n"
   ]
  },
  {
   "cell_type": "code",
   "execution_count": 30,
   "metadata": {},
   "outputs": [
    {
     "name": "stdout",
     "output_type": "stream",
     "text": [
      "Lsp = 3.6e-07, Bo = 3.3870175616860574, thetaT = 3.7037037037037037\n"
     ]
    },
    {
     "name": "stderr",
     "output_type": "stream",
     "text": [
      "/tmp/ipykernel_6399/1474900599.py:20: RuntimeWarning: invalid value encountered in double_scalars\n",
      "  deltat = u[0]**(-q1)\n",
      "/tmp/ipykernel_6399/1474900599.py:24: RuntimeWarning: invalid value encountered in double_scalars\n",
      "  dTheta = (u[0]+u[1]-1)/(Lsp*u[0]**(5/2))\n"
     ]
    },
    {
     "name": "stdout",
     "output_type": "stream",
     "text": [
      "8e-08\n",
      "100001\n"
     ]
    },
    {
     "data": {
      "image/png": "[encoded data removed]",
      "text/plain": [
       "<Figure size 640x480 with 1 Axes>"
      ]
     },
     "metadata": {},
     "output_type": "display_data"
    }
   ],
   "source": [
    "# from Sio2 simulation\n",
    "Rho_a = 2400 #kg/m^3\n",
    "T_a = 27 #ev\n",
    "Tr_a = 72 # ev\n",
    "P_a = 1e12 #pascal\n",
    "v_a = 3e3 #m/s\n",
    "\n",
    "\n",
    "#guess\n",
    "K_a = 1e8\n",
    "\n",
    "Lsp, Bo, thetat, lp, lr = change_var(P_a, T_a, K_a, v_a)\n",
    "print(f'Lsp = {Lsp}, Bo = {Bo}, thetaT = {thetat}')\n",
    "\n",
    "vars =  Lsp, Bo, thetat, lp, lr\n",
    "# corresponsing too\n",
    "# temprature, radiative temprature , Sr/(Pa*va)\n",
    "Theta0, Thetar0, phi0,  = 1.,1.,-.5 #TBD\n",
    "N = 1e5\n",
    "yend = 8.e-8\n",
    "\n",
    "state0 =  np.array([Theta0, phi0, Thetar0])\n",
    "\n",
    "t, s = rk4(f, state0, 0, yend, N, vars)\n",
    "print(t[-1])\n",
    "print(len(s[:,0]))\n",
    "\n",
    "\n",
    "plt.plot(t, s[:,0]/20)\n",
    "#plt.plot(t, s[:,1])\n",
    "plt.plot(t, s[:,2]/10)\n",
    "plt.legend(['Theta', 'Phi', 'ThetaR'])\n",
    "plt.xlabel('y')\n",
    "\n",
    "plt.show()"
   ]
  }
 ],
 "metadata": {
  "kernelspec": {
   "display_name": "base",
   "language": "python",
   "name": "python3"
  },
  "language_info": {
   "codemirror_mode": {
    "name": "ipython",
    "version": 3
   },
   "file_extension": ".py",
   "mimetype": "text/x-python",
   "name": "python",
   "nbconvert_exporter": "python",
   "pygments_lexer": "ipython3",
   "version": "3.9.13"
  },
  "orig_nbformat": 4
 },
 "nbformat": 4,
 "nbformat_minor": 2
}
