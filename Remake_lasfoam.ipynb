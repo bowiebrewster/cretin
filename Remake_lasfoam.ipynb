{
 "cells": [
  {
   "cell_type": "code",
   "execution_count": 232,
   "metadata": {},
   "outputs": [],
   "source": [
    "from importlib import reload\n",
    "import sys\n",
    "import numpy as np\n",
    "import generator_object_dropdowns, to_generator_string, search, paths, write_run_plot, serial_sim_tools, plt_file #these python classes should be in the same folder as cretin_main\n",
    "for obj in [generator_object_dropdowns, to_generator_string, search, paths, write_run_plot, serial_sim_tools, plt_file]:\n",
    "    reload(obj)"
   ]
  },
  {
   "cell_type": "code",
   "execution_count": 233,
   "metadata": {},
   "outputs": [],
   "source": [
    "def sim(var1, var2, var3):\n",
    "\n",
    "    gen = generator_object_dropdowns.User_input()\n",
    "    n_atom = 100\n",
    "    rho, T_ev = 6.9, 30  \n",
    "    z = 5\n",
    "    N0, N1 = 1, 41 #We are operating in 1d wih 40 nodes\n",
    "    Rmin, Rmax = 0, 0.01\n",
    "    p2 = 1.e-9\n",
    "\n",
    "\n",
    "    gen.materials_region(nodes = [N0, N1], elec_temp = T_ev, qstart=True) #\n",
    "    gen.materials_region_material(rho, n_atom, z, z**2) #\n",
    "\n",
    "    gen.geometry(type = 'slab')\n",
    "    gen.geometry_nodes(coordinate= \"r\", scaling_type  = \"geom\", nodes = [N0, N1], nodes_range=[Rmin, Rmax], drmin = 1.e-6, slope = -1)\n",
    "\n",
    "\n",
    "    gen.sources_laser(index = 1, laser_wavelength = 1, option_1= 'value', option_2= 'history', id_value = 1, multiplier=1,)\n",
    "    gen.sources_lasray(entrance_position=  10, entrance_direction_mu = 1, entrance_direction_phi = 0, fractional_power= 1, res_frac=.5)\n",
    "    gen.sources_history(id=1, value_multiplier=1e18, time_multiplier=1., pulse_type='gaussian', p1 = 5*p2, p2 = p2)\n",
    "\n",
    "\n",
    "    gen.popular_switches(continuum_transfer= 'do steady-state and use integral formalism formalism', \n",
    "                         timestep_between_snapshot = 100, temparture_calc_heating_rates = ['temp calc = time dependant', 'heating rates = electronic'], \n",
    "                         raytrace=True, include_degeneracy='no degeneracy')\n",
    "    gen.other_switches(resonant_absrption_fraction='constant value for each ray from lasray', \n",
    "                       subcycle_maximum=1000, do_kinetics_zone_centerd=True, population_calculation = 'time dependent diffusion', \n",
    "                       control_calc_thermal_conduct = 'include thermal conduction')\n",
    "    \n",
    "    gen.controls(t_start=0, t_end=2.e-8, restart=True)\n",
    "\n",
    "    gen.parameters(time_between_snapshots=1e-9, initial_timestep=1.e-14)\n",
    "    \n",
    "    return gen\n",
    "\n",
    "gen = sim(1,1,1)\n"
   ]
  },
  {
   "cell_type": "code",
   "execution_count": 234,
   "metadata": {},
   "outputs": [
    {
     "name": "stdout",
     "output_type": "stream",
     "text": [
      "\n",
      "writing to /home/brewster/Desktop/bowie/john/john.gen\n"
     ]
    },
    {
     "data": {
      "application/vnd.jupyter.widget-view+json": {
       "model_id": "17442d6c3f9844058400591f6ff7c1f7",
       "version_major": 2,
       "version_minor": 0
      },
      "text/plain": [
       "HBox(children=(FloatText(value=0.0, description='scattering muliplier (optional):', layout=Layout(width='200px…"
      ]
     },
     "metadata": {},
     "output_type": "display_data"
    },
    {
     "name": "stdout",
     "output_type": "stream",
     "text": [
      "\n",
      "writing to /home/brewster/Desktop/bowie/john/john.gen\n",
      "running cretin with john\n",
      "ERROR: Note: The following floating-point exceptions are signalling: IEEE_UNDERFLOW_FLAG IEEE_DENORMAL\n",
      "\n",
      "file list []\n"
     ]
    },
    {
     "ename": "IndexError",
     "evalue": "list index out of range",
     "output_type": "error",
     "traceback": [
      "\u001b[0;31m---------------------------------------------------------------------------\u001b[0m",
      "\u001b[0;31mIndexError\u001b[0m                                Traceback (most recent call last)",
      "\u001b[0;32m/tmp/ipykernel_1463/2556442999.py\u001b[0m in \u001b[0;36m<module>\u001b[0;34m\u001b[0m\n\u001b[1;32m      3\u001b[0m \u001b[0;34m\u001b[0m\u001b[0m\n\u001b[1;32m      4\u001b[0m \u001b[0;34m\u001b[0m\u001b[0m\n\u001b[0;32m----> 5\u001b[0;31m \u001b[0mwrite_run_plot\u001b[0m\u001b[0;34m.\u001b[0m\u001b[0mall\u001b[0m\u001b[0;34m(\u001b[0m\u001b[0mname\u001b[0m\u001b[0;34m=\u001b[0m\u001b[0;34m'john'\u001b[0m\u001b[0;34m,\u001b[0m \u001b[0mobject\u001b[0m\u001b[0;34m=\u001b[0m\u001b[0mgen\u001b[0m\u001b[0;34m,\u001b[0m \u001b[0mlongprint\u001b[0m\u001b[0;34m=\u001b[0m\u001b[0;32mFalse\u001b[0m\u001b[0;34m,\u001b[0m \u001b[0mplot_duplicates\u001b[0m\u001b[0;34m=\u001b[0m\u001b[0;32mFalse\u001b[0m\u001b[0;34m)\u001b[0m\u001b[0;34m\u001b[0m\u001b[0;34m\u001b[0m\u001b[0m\n\u001b[0m",
      "\u001b[0;32m~/Desktop/cretin/cretin/write_run_plot.py\u001b[0m in \u001b[0;36mall\u001b[0;34m(name, object, longprint, plot_duplicates)\u001b[0m\n\u001b[1;32m    218\u001b[0m     \u001b[0mwrite\u001b[0m\u001b[0;34m(\u001b[0m\u001b[0mname\u001b[0m\u001b[0;34m,\u001b[0m \u001b[0mobject\u001b[0m\u001b[0;34m)\u001b[0m\u001b[0;34m\u001b[0m\u001b[0;34m\u001b[0m\u001b[0m\n\u001b[1;32m    219\u001b[0m     \u001b[0mrun\u001b[0m\u001b[0;34m(\u001b[0m\u001b[0mname\u001b[0m\u001b[0;34m,\u001b[0m \u001b[0mlongprint\u001b[0m\u001b[0;34m)\u001b[0m\u001b[0;34m\u001b[0m\u001b[0;34m\u001b[0m\u001b[0m\n\u001b[0;32m--> 220\u001b[0;31m     \u001b[0mplot\u001b[0m\u001b[0;34m(\u001b[0m\u001b[0mname\u001b[0m\u001b[0;34m,\u001b[0m \u001b[0mlongprint\u001b[0m\u001b[0;34m,\u001b[0m \u001b[0mplot_duplicates\u001b[0m\u001b[0;34m)\u001b[0m\u001b[0;34m\u001b[0m\u001b[0;34m\u001b[0m\u001b[0m\n\u001b[0m\u001b[1;32m    221\u001b[0m     \u001b[0mextra_plot\u001b[0m\u001b[0;34m(\u001b[0m\u001b[0mname\u001b[0m \u001b[0;34m=\u001b[0m \u001b[0mname\u001b[0m\u001b[0;34m,\u001b[0m \u001b[0mmultiplot\u001b[0m \u001b[0;34m=\u001b[0m \u001b[0;32mFalse\u001b[0m\u001b[0;34m)\u001b[0m\u001b[0;34m\u001b[0m\u001b[0;34m\u001b[0m\u001b[0m\n\u001b[1;32m    222\u001b[0m \u001b[0;34m\u001b[0m\u001b[0m\n",
      "\u001b[0;32m~/Desktop/cretin/cretin/write_run_plot.py\u001b[0m in \u001b[0;36mplot\u001b[0;34m(name, longprint, plot_duplicates)\u001b[0m\n\u001b[1;32m     97\u001b[0m \u001b[0;34m\u001b[0m\u001b[0m\n\u001b[1;32m     98\u001b[0m \u001b[0;32mdef\u001b[0m \u001b[0mplot\u001b[0m\u001b[0;34m(\u001b[0m\u001b[0mname\u001b[0m \u001b[0;34m:\u001b[0m \u001b[0mstr\u001b[0m\u001b[0;34m,\u001b[0m \u001b[0mlongprint\u001b[0m \u001b[0;34m:\u001b[0m \u001b[0mbool\u001b[0m\u001b[0;34m,\u001b[0m \u001b[0mplot_duplicates\u001b[0m \u001b[0;34m:\u001b[0m \u001b[0mbool\u001b[0m\u001b[0;34m)\u001b[0m\u001b[0;34m:\u001b[0m\u001b[0;34m\u001b[0m\u001b[0;34m\u001b[0m\u001b[0m\n\u001b[0;32m---> 99\u001b[0;31m     \u001b[0mfullpath\u001b[0m \u001b[0;34m=\u001b[0m \u001b[0mdump_path\u001b[0m\u001b[0;34m(\u001b[0m\u001b[0mname\u001b[0m\u001b[0;34m)\u001b[0m\u001b[0;34m\u001b[0m\u001b[0;34m\u001b[0m\u001b[0m\n\u001b[0m\u001b[1;32m    100\u001b[0m     \u001b[0mprint\u001b[0m\u001b[0;34m(\u001b[0m\u001b[0mname\u001b[0m\u001b[0;34m,\u001b[0m \u001b[0mfullpath\u001b[0m\u001b[0;34m)\u001b[0m\u001b[0;34m\u001b[0m\u001b[0;34m\u001b[0m\u001b[0m\n\u001b[1;32m    101\u001b[0m     \u001b[0;32mwith\u001b[0m \u001b[0mh5py\u001b[0m\u001b[0;34m.\u001b[0m\u001b[0mFile\u001b[0m\u001b[0;34m(\u001b[0m\u001b[0mfullpath\u001b[0m\u001b[0;34m,\u001b[0m \u001b[0;34m'r'\u001b[0m\u001b[0;34m)\u001b[0m \u001b[0;32mas\u001b[0m \u001b[0mf\u001b[0m\u001b[0;34m:\u001b[0m\u001b[0;34m\u001b[0m\u001b[0;34m\u001b[0m\u001b[0m\n",
      "\u001b[0;32m~/Desktop/cretin/cretin/write_run_plot.py\u001b[0m in \u001b[0;36mdump_path\u001b[0;34m(name)\u001b[0m\n\u001b[1;32m     78\u001b[0m     \u001b[0mfile_list\u001b[0m \u001b[0;34m=\u001b[0m \u001b[0mglob\u001b[0m\u001b[0;34m.\u001b[0m\u001b[0mglob\u001b[0m\u001b[0;34m(\u001b[0m\u001b[0;34m'*.d0*'\u001b[0m\u001b[0;34m)\u001b[0m\u001b[0;34m\u001b[0m\u001b[0;34m\u001b[0m\u001b[0m\n\u001b[1;32m     79\u001b[0m     \u001b[0mprint\u001b[0m\u001b[0;34m(\u001b[0m\u001b[0;34m\"file list\"\u001b[0m\u001b[0;34m,\u001b[0m\u001b[0mfile_list\u001b[0m\u001b[0;34m)\u001b[0m\u001b[0;34m\u001b[0m\u001b[0;34m\u001b[0m\u001b[0m\n\u001b[0;32m---> 80\u001b[0;31m     \u001b[0mfullpath\u001b[0m \u001b[0;34m=\u001b[0m \u001b[0;34mf'{path_test}/{name}/{file_list[0]}'\u001b[0m\u001b[0;34m\u001b[0m\u001b[0;34m\u001b[0m\u001b[0m\n\u001b[0m\u001b[1;32m     81\u001b[0m     \u001b[0;32mreturn\u001b[0m \u001b[0mfullpath\u001b[0m\u001b[0;34m\u001b[0m\u001b[0;34m\u001b[0m\u001b[0m\n\u001b[1;32m     82\u001b[0m \u001b[0;34m\u001b[0m\u001b[0m\n",
      "\u001b[0;31mIndexError\u001b[0m: list index out of range"
     ]
    }
   ],
   "source": [
    "write_run_plot.write(name='john', object=gen)\n",
    "gen.drop_parameters()\n",
    "\n",
    "\n",
    "write_run_plot.all(name='john', object=gen, longprint=False, plot_duplicates=False)"
   ]
  },
  {
   "cell_type": "code",
   "execution_count": null,
   "metadata": {},
   "outputs": [
    {
     "name": "stdout",
     "output_type": "stream",
     "text": [
      "add_plot\n",
      "controls\n",
      "controls_history\n",
      "controls_history_tv\n",
      "geometry\n",
      "geometry_nodes\n",
      "geometry_product_mesh\n",
      "geometry_quad\n",
      "materials_atom\n",
      "materials_atom_modeltype\n",
      "materials_region\n",
      "materials_region_background\n",
      "materials_region_element\n",
      "materials_region_level\n",
      "materials_region_material\n",
      "materials_region_opacity\n",
      "materials_region_rho\n",
      "other_switches\n",
      "parameters\n",
      "popular_switches\n",
      "radiation_angles\n",
      "radiation_aprd\n",
      "radiation_ebins\n",
      "radiation_lbins\n",
      "radiation_line\n",
      "radiation_spectrum\n",
      "sources_boundary\n",
      "sources_history\n",
      "sources_laser\n",
      "sources_lasray\n",
      "sources_rswitch\n",
      "sources_source_jbndry\n",
      "sources_source_jnu\n",
      "sources_source_laser\n"
     ]
    }
   ],
   "source": [
    "gen3 = generator_object_dropdowns.User_input()\n",
    "functions = [i for i in dir(gen3) if callable(getattr(gen3, i)) and not i.startswith(\"__\") and not (\"drop\" in i)]\n",
    "\n",
    "for method_name in functions:\n",
    "    print(method_name)\n",
    "    method_to_call = getattr(gen3, method_name)\n",
    "    #method_to_call()"
   ]
  }
 ],
 "metadata": {
  "kernelspec": {
   "display_name": "base",
   "language": "python",
   "name": "python3"
  },
  "language_info": {
   "codemirror_mode": {
    "name": "ipython",
    "version": 3
   },
   "file_extension": ".py",
   "mimetype": "text/x-python",
   "name": "python",
   "nbconvert_exporter": "python",
   "pygments_lexer": "ipython3",
   "version": "3.9.13"
  },
  "orig_nbformat": 4
 },
 "nbformat": 4,
 "nbformat_minor": 2
}
