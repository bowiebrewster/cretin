{
 "cells": [
  {
   "cell_type": "code",
   "execution_count": 8,
   "metadata": {},
   "outputs": [],
   "source": [
    "from importlib import reload\n",
    "import generator_object, to_generator_string, search, paths, write_run_plot, serial_sim_tools, plt_file #these python files should be in the same folder as cretin_main\n",
    "for obj in [generator_object, to_generator_string, search, paths, write_run_plot, serial_sim_tools, plt_file]:\n",
    "    reload(obj)"
   ]
  },
  {
   "cell_type": "code",
   "execution_count": 9,
   "metadata": {},
   "outputs": [],
   "source": [
    "def sim(var1, var2, var3):\n",
    "\n",
    "    gen = generator_object.User_input()\n",
    "    n_atom = 100\n",
    "    rho, T_ev = .1, 0.01  \n",
    "    z = 5\n",
    "    N0, N1 = 1, 101 #We are operating in 1d wih 40 nodes\n",
    "    Rmin, Rmax = 0, 0.01\n",
    "    p2 = 1.e-9\n",
    "\n",
    "\n",
    "    gen.materials_region(nodes = [N0, N1], elec_temp = T_ev, qstart = True) #\n",
    "    gen.materials_region_material(rho, n_atom, z, z**2) #\n",
    "\n",
    "    gen.geometry(type = 'slab')\n",
    "    gen.geometry_nodes(coordinate= \"r\", scaling_type  = \"geom\", nodes = [N0, N1], nodes_range=[Rmin, Rmax], drmin = 1.e-6, slope = -1)\n",
    "\n",
    "\n",
    "    gen.sources_laser(index = 1, laser_wavelength = 1, option_1= 'value', option_2= 'history', id_value = 1, multiplier=1,)\n",
    "    gen.sources_lasray(entrance_position=  10, entrance_direction_mu = 1, entrance_direction_phi = 0, fractional_power= 1, res_frac=.5)\n",
    "    gen.sources_history(id=1, value_multiplier = 1e18, time_multiplier = 1., pulse_type='gaussian', p1 = 5*p2, p2 = p2)\n",
    "\n",
    "\n",
    "    gen.popular_switches(timestep_between_snapshot = 100, \n",
    "                        temparture_calc_heating_rates = ['temp calc = time dependant', 'heating rates = electronic'], \n",
    "                        raytrace=True, include_degeneracy = 'no degeneracy')\n",
    "    gen.other_switches(resonant_absrption_fraction = 'constant value for each ray from lasray', \n",
    "                        subcycle_maximum = 1000,\n",
    "                        do_kinetics_zone_centerd = True, \n",
    "                        population_calculation = 'time dependent diffusion', \n",
    "                        control_calc_thermal_conduct = 'include thermal conduction')\n",
    "    \n",
    "    gen.controls(t_start = 0, t_end = 2.e-8, restart = True)\n",
    "\n",
    "    gen.parameters(time_between_snapshots=1e-9, initial_timestep=1.e-14)\n",
    "    \n",
    "    return gen\n",
    "\n",
    "gen = sim(1,1,1)\n"
   ]
  },
  {
   "cell_type": "code",
   "execution_count": 10,
   "metadata": {},
   "outputs": [
    {
     "name": "stdout",
     "output_type": "stream",
     "text": [
      "\n",
      "writing to /home/brewster/Desktop/bowie/john/john.gen\n",
      "running cretin with john\n",
      "file list ['john.d00']\n",
      "john /home/brewster/Desktop/bowie//john/john.d00\n",
      "plotting john to /home/brewster/Desktop/bowie/john/images\n"
     ]
    }
   ],
   "source": [
    "write_run_plot.all(name='john', object=gen, longprint=False, plot_duplicates=False)"
   ]
  },
  {
   "cell_type": "code",
   "execution_count": 11,
   "metadata": {},
   "outputs": [],
   "source": [
    "gen3 = generator_object.User_input()\n",
    "functions = [i for i in dir(gen3) if callable(getattr(gen3, i)) and not i.startswith(\"__\")]\n"
   ]
  }
 ],
 "metadata": {
  "kernelspec": {
   "display_name": "base",
   "language": "python",
   "name": "python3"
  },
  "language_info": {
   "codemirror_mode": {
    "name": "ipython",
    "version": 3
   },
   "file_extension": ".py",
   "mimetype": "text/x-python",
   "name": "python",
   "nbconvert_exporter": "python",
   "pygments_lexer": "ipython3",
   "version": "3.9.13"
  },
  "orig_nbformat": 4
 },
 "nbformat": 4,
 "nbformat_minor": 2
}
