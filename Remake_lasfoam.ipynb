{
 "cells": [
  {
   "cell_type": "code",
   "execution_count": 51,
   "metadata": {},
   "outputs": [],
   "source": [
    "from importlib import reload\n",
    "import sys\n",
    "import numpy as np\n",
    "import generator_object_dropdowns, to_generator_string, search, paths, write_run_plot, serial_sim_tools, plt_file #these python classes should be in the same folder as cretin_main\n",
    "for obj in [generator_object_dropdowns, to_generator_string, search, paths, write_run_plot, serial_sim_tools, plt_file]:\n",
    "    reload(obj)"
   ]
  },
  {
   "cell_type": "code",
   "execution_count": 52,
   "metadata": {},
   "outputs": [],
   "source": [
    "def sim(var1, var2, var3):\n",
    "\n",
    "    gen = generator_object_dropdowns.User_input()\n",
    "    n_atom = 50\n",
    "    rho, T_ev = 6.9, 30  \n",
    "    z = 12\n",
    "    N0, N1 = 1, 41 #We are operating in 1d wih 40 nodes\n",
    "    #E1, E2 = 4, 5  the laser energies\n",
    "    Rmin, Rmax = 0, 0.01\n",
    "    #DN, DR = 10, .1\n",
    "\n",
    "\n",
    "    gen.materials_region(nodes = [N0, N1], elec_temp = T_ev) #\n",
    "    gen.materials_region_material(rho, n_atom, z, z**2) #\n",
    "\n",
    "    gen.geometry(type = 'slab')\n",
    "    gen.geometry_nodes(coordinate= \"r\", scaling_type  = \"geom\", nodes = [N0, N1], nodes_range=[Rmin, Rmax], drmin = 1e-6, slope = -1)\n",
    "\n",
    "\n",
    "    gen.source_laser(laser_wavelength = 1, option_1= 'value', option_2= 'history', values = [1,1], nodes= [N0, N1])\n",
    "    gen.source_lasray(entrance_position=  10, entrance_direction_mu = 1, entrance_direction_phi = 0, fractional_power= 1, res_frac=.5)\n",
    "    gen.source_history(id=1, value_multiplier=1e18, time_multiplier=1., pulse_type='gaussian', p1 = 5e-9, p2 = 1e-9)\n",
    "\n",
    "\n",
    "    gen.popular_switches(continuum_transfer= 'do steady-state and use integral formalism formalism', timestep_between_snapshot = 3)\n",
    "    return gen\n",
    "\n",
    "gen = sim(1,1,1)\n"
   ]
  },
  {
   "cell_type": "code",
   "execution_count": 57,
   "metadata": {},
   "outputs": [
    {
     "name": "stdout",
     "output_type": "stream",
     "text": [
      "\n",
      "writing to /home/brewster/Desktop/bowie/pablo/pablo.gen\n"
     ]
    }
   ],
   "source": [
    "\n",
    "\n",
    "write_run_plot.write(object = gen, name = 'pablo')\n"
   ]
  },
  {
   "cell_type": "code",
   "execution_count": 55,
   "metadata": {},
   "outputs": [],
   "source": [
    "# implement history to string\n",
    "# implement switch"
   ]
  },
  {
   "cell_type": "code",
   "execution_count": 56,
   "metadata": {},
   "outputs": [
    {
     "data": {
      "text/plain": [
       "False"
      ]
     },
     "execution_count": 56,
     "metadata": {},
     "output_type": "execute_result"
    }
   ],
   "source": [
    "'history' in [[1,'history'], 1]"
   ]
  },
  {
   "cell_type": "code",
   "execution_count": null,
   "metadata": {},
   "outputs": [],
   "source": []
  }
 ],
 "metadata": {
  "kernelspec": {
   "display_name": "base",
   "language": "python",
   "name": "python3"
  },
  "language_info": {
   "codemirror_mode": {
    "name": "ipython",
    "version": 3
   },
   "file_extension": ".py",
   "mimetype": "text/x-python",
   "name": "python",
   "nbconvert_exporter": "python",
   "pygments_lexer": "ipython3",
   "version": "3.9.13"
  },
  "orig_nbformat": 4
 },
 "nbformat": 4,
 "nbformat_minor": 2
}
