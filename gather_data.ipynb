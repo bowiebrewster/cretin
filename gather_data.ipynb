{
 "cells": [
  {
   "cell_type": "code",
   "execution_count": 5,
   "metadata": {},
   "outputs": [],
   "source": [
    "import os, glob \n",
    "from collections import Counter\n",
    "import pandas as pd\n",
    "import matplotlib.pyplot as plt"
   ]
  },
  {
   "cell_type": "code",
   "execution_count": 14,
   "metadata": {},
   "outputs": [
    {
     "name": "stdout",
     "output_type": "stream",
     "text": [
      "                                                     0\n",
      "  material RHO 1. 1. 1.\\n                           10\n",
      "  material RHO  1. 1. 1.\\n                           4\n",
      "  material Rho1 1. 1. 1.\\n                           3\n",
      "  material Rho2 1. 1. 1.\\n                           3\n",
      "  material RHO 100. 5. 25.      ! material with...   1\n"
     ]
    }
   ],
   "source": [
    "# finds most used follow up after \"word\"\n",
    "\n",
    "# we open the file location\n",
    "path = \"/Users/bowie/OneDrive/Desktop/recretincode/cretin.v2_19_test/test\"\n",
    "os.chdir(path)\n",
    "\n",
    "lis_hist = []\n",
    "word = 'material'\n",
    "\n",
    "def read_gen(word, complete_path):\n",
    "    f = open(complete_path, \"r\")\n",
    "    for line in f.readlines():\n",
    "        lis = line.split()\n",
    "        if len(lis)>0:\n",
    "            if word in lis[0]:\n",
    "                rest = \" \".join(lis[1:])\n",
    "                #if rest == \"laser 4x rate history 1 1. N0 N1\":\n",
    "                #    print(complete_path)\n",
    "                lis_hist.append(line)\n",
    "\n",
    "                \n",
    "for folder in os.listdir():\n",
    "    os.chdir(path+\"/\"+folder)\n",
    "    # for every file that ends in .gen\n",
    "    for file in glob.glob(\"*.gen\"):\n",
    "        read_gen(word, path+\"/\"+folder+\"/\"+file)\n",
    "\n",
    "\n",
    "# turn it into a frequncy table and print highest to lowest \n",
    "letter_counts = Counter(lis_hist)\n",
    "df = pd.DataFrame.from_dict(letter_counts, orient='index')\n",
    "df = df.sort_values(by=[0], ascending = False)\n",
    "with pd.option_context('display.max_rows', None,\n",
    "                       'display.max_columns', None,\n",
    "                       'display.precision', 3,\n",
    "                       ):\n",
    "    print(df)\n"
   ]
  },
  {
   "cell_type": "code",
   "execution_count": 7,
   "metadata": {},
   "outputs": [
    {
     "name": "stdout",
     "output_type": "stream",
     "text": [
      "             0\n",
      "atoms       53\n",
      "element     51\n",
      "region      43\n",
      "material    21\n",
      "modeltype   14\n",
      "opacity     14\n",
      "regionkl    13\n",
      "background  11\n",
      "level       10\n",
      "reg          7\n",
      "regionklm    6\n",
      "rho          5\n",
      "alias        4\n",
      "ne           3\n",
      "isorange     3\n",
      "regmult      3\n",
      "qstart       1\n",
      "bfield       1\n"
     ]
    }
   ],
   "source": [
    "# finds most used command in a specific chapter ie geometry\n",
    "path = \"/Users/bowie/OneDrive/Desktop/recretincode/cretin.v2_19_test/test\"\n",
    "os.chdir(path)\n",
    "\n",
    "lis_hist = []\n",
    "chapter = 'Materials'\n",
    "str_id = \"c ----------------------------------\"\n",
    "saves = []\n",
    "def read_gen(word, complete_path):\n",
    "    f = open(complete_path, \"r\")\n",
    "    lines = f.readlines()\n",
    "    reading = False\n",
    "    for i in range(len(lines)-2):\n",
    "        line_i, line_j, line_k = lines[i], lines[i+1], lines[i+2]\n",
    "        if (str_id in line_i) and (str_id in line_k) and (chapter in line_j):\n",
    "            reading = True\n",
    "        if (str_id in line_i) and (str_id in line_k) and (chapter not in line_j):\n",
    "            reading = False\n",
    "        if reading:\n",
    "            spt = line_i.split()\n",
    "            if len(spt) > 0:\n",
    "                saves.append(spt[0])\n",
    "\n",
    "\n",
    "for folder in os.listdir():\n",
    "    os.chdir(path+\"/\"+folder)\n",
    "    for file in glob.glob(\"*.gen\"):\n",
    "        read_gen(word, path+\"/\"+folder+\"/\"+file)\n",
    "\n",
    "\n",
    "letter_counts = Counter(saves)\n",
    "df = pd.DataFrame.from_dict(letter_counts, orient='index')\n",
    "df = df.sort_values(by=[0], ascending = False)\n",
    "with pd.option_context('display.max_rows', None,\n",
    "                       'display.max_columns', None,\n",
    "                       'display.precision', 3,\n",
    "                       ):\n",
    "    df = df.drop('c')\n",
    "    try:\n",
    "        df.drop(chapter.lower())\n",
    "    except:\n",
    "        pass\n",
    "    print(df)"
   ]
  }
 ],
 "metadata": {
  "kernelspec": {
   "display_name": "base",
   "language": "python",
   "name": "python3"
  },
  "language_info": {
   "codemirror_mode": {
    "name": "ipython",
    "version": 3
   },
   "file_extension": ".py",
   "mimetype": "text/x-python",
   "name": "python",
   "nbconvert_exporter": "python",
   "pygments_lexer": "ipython3",
   "version": "3.8.3"
  },
  "orig_nbformat": 4,
  "vscode": {
   "interpreter": {
    "hash": "9c1a6276b38c85d9eea247aaf9fdce95d91b5cce7daae057350b65592844887b"
   }
  }
 },
 "nbformat": 4,
 "nbformat_minor": 2
}
