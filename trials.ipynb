{
 "cells": [
  {
   "cell_type": "code",
   "execution_count": 2,
   "metadata": {},
   "outputs": [
    {
     "name": "stdout",
     "output_type": "stream",
     "text": [
      "['atoms', 'controls', 'geometry', 'geometry_nodes', 'geometry_quad', 'materials_atom', 'materials_region', 'materials_region_background', 'materials_region_element', 'materials_region_material', 'materials_region_rho', 'other_switches', 'popular_switches', 'radiation_angles', 'radiation_ebins', 'radiation_lbins', 'regions', 'source_jbndry', 'source_jnu', 'source_laser', 'sources']\n"
     ]
    }
   ],
   "source": [
    "from importlib import reload\n",
    "import cretin_txt_gen\n",
    "#import cretin_txt_run\n",
    "reload(cretin_txt_gen)\n",
    "#reload(cretin_txt_run)\n",
    "print([i for i in dir(cretin_txt_gen.User_input()) if i[0:2] != '__'])\n",
    "# the functions inside the generator class:"
   ]
  },
  {
   "cell_type": "code",
   "execution_count": 3,
   "metadata": {},
   "outputs": [],
   "source": [
    "#reproducing lasfoam\n",
    "\n",
    "gen2 = cretin_txt_gen.User_input()\n",
    "N0, N1 = 1, 21 #number of nodes is 20\n",
    "E1 = 4.68\n",
    "E2 = E1*1.001\n",
    "rho = 0.003\n",
    "\n",
    "gen2.materials_atom(quantum_n_max = 3, element= \"h\")\n",
    "gen2.materials_atom(quantum_n_max = 3, element= \"c\")\n",
    "gen2.materials_region(nodes = [N0, N1], elec_temp = 2)\n",
    "gen2.materials_region_rho(rho)\n",
    "gen2.materials_region_element(iz = 1, y_tot = 1)\n",
    "gen2.materials_region_element(iz = 2, y_tot = 1)\n",
    "\n",
    "gen2.geometry(type = \"slab\")\n",
    "gen2.geometry_nodes(coordinate= \"r\", scaling_type  = \"lin\", node1 = N0, node2 = N1, min = 0, max = 10)\n",
    "\n",
    "gen2.radiation_ebins(n_boundaries = 61, start = 0.1, end = 10**(-5))\n",
    "gen2.radiation_angles(n_rays = 3)\n",
    "\n",
    "gen2.source_laser(laser_wavelength = 4, option_1= 'rate', option_2= 'history', x_maxima = [1,1], y_maxima= [N0, N1])\n",
    "gen2.source_jnu(E_min = E1, E_max = E2, option_1= 'rate', option_2= 'history', x_maxima= [1., 1.])\n",
    "gen2.source_jbndry(index = 1, E_min = E1, E_max = E2, option_1= 'rate', option_2= 'history', x_maxima = [1,1], y_maxima= [N0, N1])\n",
    "\n",
    "gen2.controls(t_start=0., t_end=3*10**-9, restart = True)\n"
   ]
  },
  {
   "cell_type": "code",
   "execution_count": 4,
   "metadata": {},
   "outputs": [],
   "source": [
    "# reproducing detecterz.gen\n",
    "k1, k2 = 1, 21\n",
    "l1, l2 = 1, 11\n",
    "n2 = (k2*l2)/2 \n",
    "NI, NE, TE = 10**20, 10**20, 10**3\n",
    "R0, R1, Z0, Z1  = 0. , 1., -5, 5\n",
    "RD, ZD = R1 + .1, Z1 +.1\n",
    "MU1 = 10**-3\n",
    "MU2 = -1 + MU1\n",
    "PHI1, PHI2, PHI3 = 1.57, .785, .524\n",
    " \n",
    "\n",
    "gen1 = cretin_txt_gen.User_input()\n",
    "gen1.materials_region(nodes = [k1, k2, l1, l2], elec_temp = 1)\n",
    "gen1.materials_region_background(k1, k2, l1, l2, TE)\n",
    "gen1.geometry(type = 'rz')\n",
    "gen1.geometry_quad(node_1 = [k1, k2], node_2= [l1, l2], x_cor = [R0, R1], y_cor = [Z0, Z1], ratios = [1,1])\n",
    "gen1.radiation_ebins(n_boundaries = 50, start = 50, end = 100)\n",
    "gen1.radiation_angles(n_rays=3, n_angles= 15)"
   ]
  },
  {
   "cell_type": "code",
   "execution_count": 6,
   "metadata": {},
   "outputs": [
    {
     "data": {
      "text/plain": [
       "[]"
      ]
     },
     "execution_count": 6,
     "metadata": {},
     "output_type": "execute_result"
    }
   ],
   "source": [
    "class Text_generator():\n",
    "    def __init__(self, user_input):\n",
    "        self.user_input = user_input\n",
    "\n",
    "    def start_chapter(name : str):\n",
    "        deliniator = 'c ------------------------------------------------------------'\n",
    "        header = deliniator +'\\nc   '+name+'\\n'+deliniator+'\\n'\n",
    "        return header\n",
    "    \n",
    "    def materials(self):\n",
    "        string = self.start_chapter('Materials')\n",
    "\n",
    "        atoms = self.user_input.atoms\n",
    "        regions = self.user_input.regions\n",
    "        sources = self.user_input.sources\n",
    "        materials_of_region = self.user_input.material_of_region\n",
    "        rhos_of_region = self.user_input.rho_of_region\n",
    "        backgrounds_of_region = self.user_input.background_of_region \n",
    "\n",
    "\n",
    "        # materials_atom\n",
    "        for atom in atoms:\n",
    "            line = f'atoms hydrogenic_{atom[2]} {atom[1]} \\n'\n",
    "            string += line\n",
    "\n",
    "\n",
    "    def geometry(self):\n",
    "        pass\n",
    "\n",
    "    def radiation(self):\n",
    "        pass\n",
    "\n",
    "    def controls(self):\n",
    "        pass \n",
    "        \n",
    "\n",
    "text_gen = Text_generator(gen1)\n",
    "gen1.atoms"
   ]
  },
  {
   "cell_type": "code",
   "execution_count": 9,
   "metadata": {},
   "outputs": [
    {
     "name": "stdout",
     "output_type": "stream",
     "text": [
      "['atoms', 'controls', 'geometry', 'geometry_nodes', 'geometry_quad', 'materials_atom', 'materials_region', 'materials_region_background', 'materials_region_element', 'materials_region_material', 'materials_region_rho', 'other_switches', 'popular_switches', 'radiation_angles', 'radiation_ebins', 'radiation_lbins', 'regions', 'source_jbndry', 'source_jnu', 'source_laser', 'sources']\n",
      "atoms [['h', 3, None, None], ['c', 3, None, None]]\n",
      "regions [[[1, 21], 2, None, None, [[1, 1, None, None, None, None, None, None], [2, 1, None, None, None, None, None, None]]]]\n",
      "sources [['laser', 4, 'rate', 'history', [1, 1], [1, 21], None], ['jnu', 4.68, 4.684679999999999, 'rate', 'history', [1.0, 1.0], None, None], ['jbndry', 1, 4.68, 4.684679999999999, 'rate', 'history', [1, 1], [1, 21], None]]\n",
      "elements_of_region [[1, 1, None, None, None, None, None, None], [2, 1, None, None, None, None, None, None]]\n",
      "material_of_region []\n",
      "rho_of_region [0.003]\n",
      "background_of_region []\n",
      "geometry slab\n",
      "geom_nodes [['r', 'lin', 1, 21, 0, 10, None, None, None]]\n",
      "rad_bins [61, 0.1, 1e-05, None]\n",
      "rad_angles [3, None]\n",
      "constrols [0.0, 3.0000000000000004e-09, True, False]\n"
     ]
    }
   ],
   "source": [
    "print([i for i in dir(cretin_txt_gen.User_input()) if i[0:2] != '__'])\n",
    "#print(gen2.__dict__)\n",
    "\n",
    "for key, value in gen2.__dict__.items():\n",
    "    print(key, value)\n"
   ]
  }
 ],
 "metadata": {
  "kernelspec": {
   "display_name": "base",
   "language": "python",
   "name": "python3"
  },
  "language_info": {
   "codemirror_mode": {
    "name": "ipython",
    "version": 3
   },
   "file_extension": ".py",
   "mimetype": "text/x-python",
   "name": "python",
   "nbconvert_exporter": "python",
   "pygments_lexer": "ipython3",
   "version": "3.8.3"
  },
  "orig_nbformat": 4,
  "vscode": {
   "interpreter": {
    "hash": "9c1a6276b38c85d9eea247aaf9fdce95d91b5cce7daae057350b65592844887b"
   }
  }
 },
 "nbformat": 4,
 "nbformat_minor": 2
}
