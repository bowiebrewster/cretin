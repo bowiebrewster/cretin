{
 "cells": [
  {
   "attachments": {},
   "cell_type": "markdown",
   "metadata": {},
   "source": [
    "This is the cretin main file where using the functionality of the generator object class and the to generator class easy to read cretin code can be written "
   ]
  },
  {
   "cell_type": "code",
   "execution_count": 3,
   "metadata": {},
   "outputs": [],
   "source": [
    "from importlib import reload\n",
    "import generator_object, to_generator_string, search, paths, write_run_plot, serial_sim_tools, import_plt_file #these python classes should be in the same folder as cretin_main\n",
    "for obj in [generator_object, to_generator_string, search, paths, write_run_plot, serial_sim_tools, import_plt_file]:\n",
    "    reload(obj)\n",
    "\n",
    "import numpy as np\n",
    "# These are all the functions inside the generator object class\n",
    "gen_object = [i for i in dir(generator_object.User_input()) if i[0:2] != '__']\n",
    "#print(gen_object)\n",
    "\n",
    "# all the function inside the to_generator file \n",
    "gen_to_file = [i for i in dir(to_generator_string.Text_generator(generator_object.User_input())) if i[0:2] != '__']\n",
    "#print(gen_to_file)"
   ]
  },
  {
   "cell_type": "code",
   "execution_count": 4,
   "metadata": {},
   "outputs": [
    {
     "name": "stdout",
     "output_type": "stream",
     "text": [
      "                             0\n",
      "lasray 0.11 1. 0. 1.         4\n",
      "lasray RLASER 1. 0. 1. FABS  1\n",
      "writing too /home/brewster/Desktop/cretin.v2_19_test/test/lasfoam\n",
      "error with (16, 'r', 'jnu')\n"
     ]
    }
   ],
   "source": [
    "# This allows us to find frequntly used terms in the generator files, \n",
    "# To be specific the lines of text in the generator files get sliced on \" \" and then selected by the input, f.e 'alias'\n",
    "# Then a histogram gets made of the most common results\n",
    "# similarly for most used words in a chapter (ie \"Radiation\", \"Geography\" etc)\n",
    "\n",
    "df = search.Generators().word(input = 'lasray', word_slicing = (0,10), print_path = False)\n",
    "print(df.to_string())\n",
    "#print(search.Generators().chapter(input = 'Controls'))\n",
    "\n",
    "import_plt_file.txt_to_plot('lasfoam')\n"
   ]
  },
  {
   "cell_type": "code",
   "execution_count": 11,
   "metadata": {},
   "outputs": [
    {
     "name": "stdout",
     "output_type": "stream",
     "text": [
      "\n",
      "writing too /home/brewster/Desktop/cretin.v2_19_test/test/trial1/trial1.gen\n",
      "running cretin with trial1\n",
      "plotting trial1 too /home/brewster/Desktop/cretin.v2_19_test/test/trial1/images\n",
      "plots trial1 finished at location /home/brewster/Desktop/cretin.v2_19_test/test/trial1/images\n",
      "\n",
      "writing too /home/brewster/Desktop/cretin.v2_19_test/test/trial2/trial2.gen\n",
      "running cretin with trial2\n",
      "plotting trial2 too /home/brewster/Desktop/cretin.v2_19_test/test/trial2/images\n",
      "plots trial2 finished at location /home/brewster/Desktop/cretin.v2_19_test/test/trial2/images\n",
      "comparison of trial1 and trial2, number of identical arrays: 229 number of changed arrays: 0 number of comparision errors: 1\n",
      "\n",
      "writing too /home/brewster/Desktop/cretin.v2_19_test/test/trial3/trial3.gen\n",
      "running cretin with trial3\n",
      "plotting trial3 too /home/brewster/Desktop/cretin.v2_19_test/test/trial3/images\n",
      "plots trial3 finished at location /home/brewster/Desktop/cretin.v2_19_test/test/trial3/images\n",
      "comparison of trial1 and trial3, number of identical arrays: 229 number of changed arrays: 0 number of comparision errors: 1\n",
      "\n",
      "writing too /home/brewster/Desktop/cretin.v2_19_test/test/trial4/trial4.gen\n",
      "running cretin with trial4\n",
      "plotting trial4 too /home/brewster/Desktop/cretin.v2_19_test/test/trial4/images\n",
      "plots trial4 finished at location /home/brewster/Desktop/cretin.v2_19_test/test/trial4/images\n",
      "comparison of trial1 and trial4, number of identical arrays: 229 number of changed arrays: 0 number of comparision errors: 1\n"
     ]
    }
   ],
   "source": [
    "# Here we reproduce lasfoam.gen from the test foder\n",
    "def lasfoam(variable):\n",
    "\n",
    "    gen2 = generator_object.User_input()\n",
    "\n",
    "    N0, N1 = 1, 21 #number of nodes is 20\n",
    "    DN, DR = 10, .1\n",
    "    E1, E2 = 4.68, 4.69\n",
    "    TE, rho = 2.0, 0.003\n",
    "    HPEV = 4.134*10**(-15) #planck in (eV sec)\n",
    "    MULT = HPEV/(E2-E1)\n",
    "\n",
    "    gen2.materials_atom(index = 1, quantum_n_max = 3, element= \"h\")\n",
    "    gen2.materials_atom(index = 2, quantum_n_max = 3, element= \"c\")\n",
    "    gen2.materials_region(nodes = [N0, N1], elec_temp = TE)\n",
    "    gen2.materials_region_rho(rho)\n",
    "    gen2.materials_region_element(index = 1, initial_ion_population = 1)\n",
    "    gen2.materials_region_element(index = 2, initial_ion_population = 1)\n",
    "\n",
    "    gen2.geometry(type = 'slab')\n",
    "    gen2.geometry_nodes(coordinate= \"r\", scaling_type  = \"lin\", nodes = [N0, N1], nodes_range=[0,DR])\n",
    "\n",
    "    gen2.radiation_ebins(n_boundaries = 61, start = 0.1, end = 10**(5))\n",
    "    gen2.radiation_angles(n_rays = 3)\n",
    "\n",
    "    gen2.source_laser(laser_wavelength = variable, option_1= 'rate', option_2= 'history', laser_intensities = [1,1], nodes= [N0, N1])\n",
    "    #gen2.source_jnu(E_range=[E1,E2], option_1= 'rate', option_2= 'history', nodes= [N0, N1])\n",
    "    #gen2.source_jbndry(index = 1, E_range=[E1,E2], option_1= 'rate', option_2= 'history', nodes = [1,1], values=[1,2])\n",
    "\n",
    "    gen2.popular_switches(timestep_between_snapshot = 5)\n",
    "\n",
    "    gen2.controls(t_start=0., t_end=3*10**-9, restart = True)\n",
    "\n",
    "    return gen2\n",
    "\n",
    "\n",
    "i0, iend = 1,5\n",
    "for i in range(i0,iend):\n",
    "\n",
    "    variable = 10**(-i)\n",
    "    # adding our variable to the simulation\n",
    "    gen2 = lasfoam(variable)\n",
    "    write_run_plot.all(name = 'trial'+str(i), object = gen2, longprint = False, plot_duplicates = False)\n",
    "\n",
    "    if i>i0:\n",
    "        org_trial, curr_trial = f'trial{str(i0)}',f'trial{str(i)}'\n",
    "        # comparing data from the data dump for diffrent simulations with dependancy on 'variable'\n",
    "        compare_dict = serial_sim_tools.check_dependancy(org_trial, curr_trial)\n",
    "        val_lis = list(compare_dict.values())\n",
    "        print(f'comparison of {org_trial} and {curr_trial}, number of identical arrays: {val_lis.count(True)} number of changed arrays: {val_lis.count(False)} number of comparision errors: {val_lis.count(\"comparison error\")}')"
   ]
  },
  {
   "cell_type": "code",
   "execution_count": 113,
   "metadata": {},
   "outputs": [
    {
     "name": "stdout",
     "output_type": "stream",
     "text": [
      "\n",
      "writing too /home/brewster/Desktop/cretin.v2_19_test/test/trial1/trial1.gen\n",
      "running cretin with trial1\n",
      "plotting trial1 too /home/brewster/Desktop/cretin.v2_19_test/test/trial1/images\n",
      "plots trial1 finished at location /home/brewster/Desktop/cretin.v2_19_test/test/trial1/images\n",
      "\n",
      "writing too /home/brewster/Desktop/cretin.v2_19_test/test/trial2/trial2.gen\n",
      "running cretin with trial2\n",
      "plotting trial2 too /home/brewster/Desktop/cretin.v2_19_test/test/trial2/images\n",
      "plots trial2 finished at location /home/brewster/Desktop/cretin.v2_19_test/test/trial2/images\n",
      "comparison of trial1 and trial2, number of identical arrays: 52 number of changed arrays: 81 number of comparision errors: 0\n",
      "\n",
      "writing too /home/brewster/Desktop/cretin.v2_19_test/test/trial3/trial3.gen\n",
      "running cretin with trial3\n",
      "plotting trial3 too /home/brewster/Desktop/cretin.v2_19_test/test/trial3/images\n",
      "plots trial3 finished at location /home/brewster/Desktop/cretin.v2_19_test/test/trial3/images\n",
      "comparison of trial1 and trial3, number of identical arrays: 52 number of changed arrays: 81 number of comparision errors: 0\n",
      "\n",
      "writing too /home/brewster/Desktop/cretin.v2_19_test/test/trial4/trial4.gen\n",
      "running cretin with trial4\n",
      "plotting trial4 too /home/brewster/Desktop/cretin.v2_19_test/test/trial4/images\n",
      "plots trial4 finished at location /home/brewster/Desktop/cretin.v2_19_test/test/trial4/images\n",
      "comparison of trial1 and trial4, number of identical arrays: 52 number of changed arrays: 81 number of comparision errors: 0\n"
     ]
    }
   ],
   "source": [
    "#John's asignment\n",
    "\n",
    "\n",
    "# first we create our generic object\n",
    "def sim(var):\n",
    "\n",
    "    gen2 = generator_object.User_input()\n",
    "\n",
    "    rho, T_ev, Tkelvin, ne , z = 6.9, 30*var, 512,  10**20, 12\n",
    "    N0, N1 = 1, 41 #We are operating in 1d wih 40 nodes\n",
    "    tin_n = 50\n",
    "    E1, E2 = 4, 4.7 # the laser energies\n",
    "\n",
    "\n",
    "    gen2.materials_atom(index = 1, quantum_n_max = 3, element= \"Sn\")\n",
    "    gen2.materials_region(nodes = [N0, N1], elec_temp = T_ev)\n",
    "    gen2.materials_region_rho(rho)\n",
    "    gen2.materials_region_background(ion_density = ne, electron_density = ne, average_charge = z, average_charge_squared=z**2, avg_atomic_number = tin_n )\n",
    "    gen2.materials_region_element(index = 1, initial_ion_population = ne )\n",
    "    gen2.geometry_nodes(coordinate= \"x\", scaling_type  = \"lin\", nodes = [N0, N1], nodes_range=[0,10])\n",
    "    gen2.radiation_ebins(n_boundaries = 61, start = 10**-5, end = 10**(5))\n",
    "    gen2.radiation_angles(n_rays = 1)\n",
    "    gen2.controls(t_start=0., t_end=3*10**-6, restart = True)\n",
    "    gen2.popular_switches(timestep_between_snapshot = 5)\n",
    "    #gen2.source_laser(laser_wavelength = 4, option_1= 'rate', option_2= 'history', laser_intensities = [1,1], nodes= [N0, N1])\n",
    "    #gen2.source_jnu(E_range=[E1,E2], option_1= 'rate', option_2= 'history', nodes= [N0, var])\n",
    "    #gen2.source_jbndry(index = 1, E_range=[E1,E2], option_1= 'rate', option_2= 'history', nodes = [1,1], values=[1,2])\n",
    "\n",
    "    return gen2\n",
    "\n",
    "i0, iend = 1,5\n",
    "for i in range(i0,iend):\n",
    "\n",
    "    variable = 1+2**i\n",
    "    # adding our variable to the simulation\n",
    "    gen2 = sim(variable)\n",
    "    write_run_plot.all(name = 'trial'+str(i), object = gen2, longprint = False, plot_duplicates = False)\n",
    "\n",
    "    if i>i0:\n",
    "        org_trial, curr_trial = f'trial{str(i0)}',f'trial{str(i)}'\n",
    "        # comparing data from the data dump for diffrent simulations with dependancy on 'variable'\n",
    "        compare_dict = serial_sim_tools.check_dependancy(org_trial, curr_trial)\n",
    "        val_lis = list(compare_dict.values())\n",
    "        print(f'comparison of {org_trial} and {curr_trial}, number of identical arrays: {val_lis.count(True)} number of changed arrays: {val_lis.count(False)} number of comparision errors: {val_lis.count(\"comparison error\")}')"
   ]
  },
  {
   "cell_type": "code",
   "execution_count": 112,
   "metadata": {},
   "outputs": [
    {
     "name": "stdout",
     "output_type": "stream",
     "text": [
      "\n",
      "writing too /home/brewster/Desktop/cretin.v2_19_test/test/trial1/trial1.gen\n",
      "running cretin with trial1\n",
      "plotting trial1 too /home/brewster/Desktop/cretin.v2_19_test/test/trial1/images\n",
      "emis_0 has dimension 3 and has not been\n",
      "jnu_0 has dimension 3 and has not been\n",
      "kappa_0 has dimension 3 and has not been\n",
      "plots trial1 finished at location /home/brewster/Desktop/cretin.v2_19_test/test/trial1/images\n"
     ]
    }
   ],
   "source": [
    "# reproducing detecterz.gen\n",
    "gen1 = generator_object.User_input()\n",
    "\n",
    "k1, k2 = 1, 21\n",
    "l1, l2 = 1, 11\n",
    "n2 = (k2*l2)/2 \n",
    "NI, NE, TE = 10**20, 10**20, 10**3\n",
    "R0, R1, Z0, Z1  = 0. , 1., -5, 5\n",
    "RD, ZD = R1 + .1, Z1 +.1\n",
    "MU1 = 10**-3\n",
    "MU2 = -1 + MU1\n",
    "PHI1, PHI2, PHI3 = 1.57, .785, .524\n",
    "\n",
    "gen1.materials_region(nodes = [k1, k2, l1, l2], elec_temp = 1.1)\n",
    "gen1.materials_region_background(k1, k2, l1, l2, TE)\n",
    "gen1.geometry(type = 'rz')\n",
    "gen1.geometry_quad(node_1 = [k1, k2], node_2= [l1, l2], x_cors = [R0, R1], y_cors = [Z0, Z1], ratios = [1,1])\n",
    "gen1.radiation_ebins(n_boundaries = 50, start = 100, end = 1000)\n",
    "gen1.radiation_angles(n_rays=3, n_angles= 15)\n",
    "gen1.controls(t_start=0, t_end=0)\n",
    "gen1.popular_switches(continuum_transfer='do steady-state continuum transfer',include_degeneracy='include electron degeneracy')\n",
    "\n",
    "write_run_plot.all(name = 'trial1', object = gen1, longprint= False, plot_duplicates= False)\n",
    "\n"
   ]
  }
 ],
 "metadata": {
  "kernelspec": {
   "display_name": "base",
   "language": "python",
   "name": "python3"
  },
  "language_info": {
   "codemirror_mode": {
    "name": "ipython",
    "version": 3
   },
   "file_extension": ".py",
   "mimetype": "text/x-python",
   "name": "python",
   "nbconvert_exporter": "python",
   "pygments_lexer": "ipython3",
   "version": "3.9.13"
  },
  "orig_nbformat": 4,
  "vscode": {
   "interpreter": {
    "hash": "dbf8f17e5f429e2b4709ff3b117dd239b5a5f6019ed64a0c5a4abac03c19c3d1"
   }
  }
 },
 "nbformat": 4,
 "nbformat_minor": 2
}
