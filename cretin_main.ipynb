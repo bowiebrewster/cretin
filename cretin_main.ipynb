{
 "cells": [
  {
   "attachments": {},
   "cell_type": "markdown",
   "metadata": {},
   "source": [
    "This is the cretin main file where all the functionality is available. To use this file succesfully you must have added your paths to the paths.py file and you must have cretin installed which is coupled to via the demo.sh.\n",
    "I will the showcase the full functionality in this file  "
   ]
  },
  {
   "cell_type": "code",
   "execution_count": 6,
   "metadata": {},
   "outputs": [],
   "source": [
    "from importlib import reload\n",
    "import generator_object, to_generator_string, search, paths, write_run_plot, serial_sim_tools, plt_file #these python files should be in the same folder as cretin_main\n",
    "for obj in [generator_object, to_generator_string, search, paths, write_run_plot, serial_sim_tools, plt_file]:\n",
    "    reload(obj)\n",
    "\n",
    "import numpy as np"
   ]
  },
  {
   "cell_type": "code",
   "execution_count": 7,
   "metadata": {},
   "outputs": [
    {
     "name": "stdout",
     "output_type": "stream",
     "text": [
      "['add_plot', 'atoms', 'controls', 'controls_history', 'controls_history_tv', 'drop', 'geometry', 'geometry_nodes', 'geometry_product_mesh', 'geometry_quad', 'lasers', 'materials_atom', 'materials_atom_modeltype', 'materials_region', 'materials_region_background', 'materials_region_element', 'materials_region_level', 'materials_region_material', 'materials_region_opacity', 'materials_region_rho', 'other_switches', 'parameters', 'plots', 'popular_switches', 'radiation_angles', 'radiation_aprd', 'radiation_ebins', 'radiation_lbins', 'radiation_line', 'radiation_spectrum', 'regions', 'source_histories', 'sources', 'sources_aprd', 'sources_boundary', 'sources_history', 'sources_laser', 'sources_lasray', 'sources_rswitch', 'sources_source_jbndry', 'sources_source_jnu', 'sources_source_laser']\n",
      "['controls', 'dict', 'edits', 'execute', 'flat', 'geometry', 'ilts', 'materials', 'pop_switches', 'radiation', 'sources', 'start_chapter', 'user_input']\n"
     ]
    }
   ],
   "source": [
    "# These are all the functions inside the generator object class\n",
    "gen_object = [i for i in dir(generator_object.User_input()) if i[0:2] != '__']\n",
    "print(gen_object)\n",
    "\n",
    "# all the function inside the to_generator file \n",
    "gen_to_file = [i for i in dir(to_generator_string.Text_generator(generator_object.User_input())) if i[0:2] != '__']\n",
    "print(gen_to_file)"
   ]
  },
  {
   "cell_type": "code",
   "execution_count": 8,
   "metadata": {},
   "outputs": [],
   "source": [
    "# This allows us to find frequntly used terms in the generator files, \n",
    "# To be specific the lines of text in the generator files get sliced on \" \" and then selected by the input, f.e 'alias'\n",
    "# Then a histogram gets made of the most common results\n",
    "# similarly for most used words in a chapter (ie \"Radiation\", \"Geography\" etc).\n",
    "# i'm using this to determine what syntax i should include in this python version\n",
    "\n",
    "search_for_word = 'alias'\n",
    "search_inside_chapter = 'Controls'\n",
    "df = search.Generators().word(input = search_for_word, word_slicing = (0,10), print_path = False)\n",
    "#print(df.to_string())\n",
    "#print(search.Generators().chapter(input = search_inside_chapter))\n"
   ]
  },
  {
   "cell_type": "code",
   "execution_count": 9,
   "metadata": {},
   "outputs": [
    {
     "name": "stdout",
     "output_type": "stream",
     "text": [
      "\n",
      "writing to /home/brewster/Desktop/bowie/trial1/trial1.gen\n",
      "running cretin with trial1\n",
      "file list ['trial1.d00']\n",
      "trial1 /home/brewster/Desktop/bowie//trial1/trial1.d00\n",
      "plotting trial1 to /home/brewster/Desktop/bowie/trial1/images\n",
      "emis_0 has shape (11, 21, 50) and has not been plot\n",
      "jnu_0 has shape (11, 21, 50) and has not been plot\n",
      "kappa_0 has shape (11, 21, 50) and has not been plot\n"
     ]
    }
   ],
   "source": [
    "# reproducing detecterz.gen\n",
    "gen1 = generator_object.User_input()\n",
    "\n",
    "k1, k2 = 1, 21\n",
    "l1, l2 = 1, 11\n",
    "n2 = (k2*l2)/2 \n",
    "NI, NE, TE = 10**20, 10**20, 10**3\n",
    "R0, R1, Z0, Z1  = 0. , 1., -5, 5\n",
    "RD, ZD = R1 + .1, Z1 +.1\n",
    "MU1 = 10**-3\n",
    "MU2 = -1 + MU1\n",
    "PHI1, PHI2, PHI3 = 1.57, .785, .524\n",
    "\n",
    "gen1.materials_region(nodes = [k1, k2, l1, l2], elec_temp = 1.1)\n",
    "gen1.materials_region_background(k1, k2, l1, l2, TE)\n",
    "gen1.geometry(type = 'rz')\n",
    "gen1.geometry_quad(node_1 = [k1, k2], node_2= [l1, l2], x_cors = [R0, R1], y_cors = [Z0, Z1], ratios = [1,1])\n",
    "gen1.radiation_ebins(n_boundaries = 50, start = 100, end = 1000)\n",
    "gen1.radiation_angles(n_rays = 3, n_angles = 15)\n",
    "gen1.controls(t_start = 0, t_end = 0)\n",
    "gen1.popular_switches(continuum_transfer='do steady-state continuum transfer', include_degeneracy='include electron degeneracy')\n",
    "\n",
    "# this automatically creates the 'trial' folder, writes to the 'trial.gen' file, runs cretin, extracts the data and plots it into the trial/images folder \n",
    "write_run_plot.all(name = 'trial1', object = gen1, longprint = False, plot_duplicates = False)"
   ]
  },
  {
   "cell_type": "code",
   "execution_count": 11,
   "metadata": {},
   "outputs": [
    {
     "ename": "AttributeError",
     "evalue": "'User_input' object has no attribute 'lasray_lis'",
     "output_type": "error",
     "traceback": [
      "\u001b[0;31m---------------------------------------------------------------------------\u001b[0m",
      "\u001b[0;31mAttributeError\u001b[0m                            Traceback (most recent call last)",
      "\u001b[0;32m/tmp/ipykernel_30563/3170075623.py\u001b[0m in \u001b[0;36m<module>\u001b[0;34m\u001b[0m\n\u001b[1;32m     60\u001b[0m \u001b[0;34m\u001b[0m\u001b[0m\n\u001b[1;32m     61\u001b[0m \u001b[0;34m\u001b[0m\u001b[0m\n\u001b[0;32m---> 62\u001b[0;31m \u001b[0mgen2\u001b[0m \u001b[0;34m=\u001b[0m \u001b[0mlasfoam\u001b[0m\u001b[0;34m(\u001b[0m\u001b[0;34m'SOURCE4'\u001b[0m\u001b[0;34m)\u001b[0m\u001b[0;34m\u001b[0m\u001b[0;34m\u001b[0m\u001b[0m\n\u001b[0m\u001b[1;32m     63\u001b[0m \u001b[0mname\u001b[0m \u001b[0;34m=\u001b[0m \u001b[0;34m'checking_lasfoam4'\u001b[0m\u001b[0;34m\u001b[0m\u001b[0;34m\u001b[0m\u001b[0m\n\u001b[1;32m     64\u001b[0m \u001b[0mwrite_run_plot\u001b[0m\u001b[0;34m.\u001b[0m\u001b[0mall\u001b[0m\u001b[0;34m(\u001b[0m\u001b[0mname\u001b[0m\u001b[0;34m,\u001b[0m \u001b[0mgen2\u001b[0m\u001b[0;34m,\u001b[0m \u001b[0mlongprint\u001b[0m\u001b[0;34m=\u001b[0m\u001b[0;32mFalse\u001b[0m\u001b[0;34m,\u001b[0m \u001b[0mplot_duplicates\u001b[0m\u001b[0;34m=\u001b[0m \u001b[0;32mFalse\u001b[0m\u001b[0;34m)\u001b[0m\u001b[0;34m\u001b[0m\u001b[0;34m\u001b[0m\u001b[0m\n",
      "\u001b[0;32m/tmp/ipykernel_30563/3170075623.py\u001b[0m in \u001b[0;36mlasfoam\u001b[0;34m(source)\u001b[0m\n\u001b[1;32m     52\u001b[0m \u001b[0;34m\u001b[0m\u001b[0m\n\u001b[1;32m     53\u001b[0m     \u001b[0;32melif\u001b[0m \u001b[0msource\u001b[0m \u001b[0;34m==\u001b[0m \u001b[0;34m'SOURCE4'\u001b[0m\u001b[0;34m:\u001b[0m\u001b[0;34m\u001b[0m\u001b[0;34m\u001b[0m\u001b[0m\n\u001b[0;32m---> 54\u001b[0;31m         \u001b[0mgen2\u001b[0m\u001b[0;34m.\u001b[0m\u001b[0msources_source_jbndry\u001b[0m\u001b[0;34m(\u001b[0m\u001b[0mindex\u001b[0m \u001b[0;34m=\u001b[0m \u001b[0;36m1\u001b[0m\u001b[0;34m,\u001b[0m \u001b[0mE_range\u001b[0m\u001b[0;34m=\u001b[0m \u001b[0;34m[\u001b[0m\u001b[0mE1\u001b[0m\u001b[0;34m,\u001b[0m \u001b[0mE2\u001b[0m\u001b[0;34m]\u001b[0m\u001b[0;34m,\u001b[0m \u001b[0moption_1\u001b[0m\u001b[0;34m=\u001b[0m \u001b[0;34m'rate'\u001b[0m\u001b[0;34m,\u001b[0m \u001b[0moption_2\u001b[0m\u001b[0;34m=\u001b[0m \u001b[0;34m'history'\u001b[0m\u001b[0;34m,\u001b[0m\u001b[0mvalues\u001b[0m \u001b[0;34m=\u001b[0m \u001b[0;34m[\u001b[0m\u001b[0;36m1\u001b[0m\u001b[0;34m,\u001b[0m\u001b[0mmult\u001b[0m\u001b[0;34m]\u001b[0m\u001b[0;34m)\u001b[0m\u001b[0;34m\u001b[0m\u001b[0;34m\u001b[0m\u001b[0m\n\u001b[0m\u001b[1;32m     55\u001b[0m         \u001b[0mgen2\u001b[0m\u001b[0;34m.\u001b[0m\u001b[0msources_boundary\u001b[0m\u001b[0;34m(\u001b[0m\u001b[0mpackage\u001b[0m\u001b[0;34m=\u001b[0m\u001b[0;34m'radiation'\u001b[0m\u001b[0;34m,\u001b[0m \u001b[0mtype\u001b[0m \u001b[0;34m=\u001b[0m \u001b[0;34m'streaming'\u001b[0m\u001b[0;34m,\u001b[0m \u001b[0mnodes\u001b[0m\u001b[0;34m=\u001b[0m \u001b[0;34m[\u001b[0m\u001b[0;36m1\u001b[0m\u001b[0;34m,\u001b[0m \u001b[0;36m0\u001b[0m\u001b[0;34m,\u001b[0m \u001b[0mN1\u001b[0m\u001b[0;34m,\u001b[0m \u001b[0;34m'xfile'\u001b[0m\u001b[0;34m]\u001b[0m\u001b[0;34m,\u001b[0m \u001b[0mvalue\u001b[0m \u001b[0;34m=\u001b[0m \u001b[0;36m1\u001b[0m\u001b[0;34m,\u001b[0m \u001b[0mmult\u001b[0m \u001b[0;34m=\u001b[0m \u001b[0;36m1\u001b[0m\u001b[0;34m)\u001b[0m\u001b[0;34m\u001b[0m\u001b[0;34m\u001b[0m\u001b[0m\n\u001b[1;32m     56\u001b[0m         \u001b[0mgen2\u001b[0m\u001b[0;34m.\u001b[0m\u001b[0mpopular_switches\u001b[0m\u001b[0;34m(\u001b[0m\u001b[0mcontinuum_transfer_evolves_temp\u001b[0m \u001b[0;34m=\u001b[0m \u001b[0;32mTrue\u001b[0m\u001b[0;34m)\u001b[0m\u001b[0;34m\u001b[0m\u001b[0;34m\u001b[0m\u001b[0m\n",
      "\u001b[0;32m~/Desktop/cretin/cretin/generator_object.py\u001b[0m in \u001b[0;36msources_source_jbndry\u001b[0;34m(self, index, E_range, option_1, option_2, values, nodes)\u001b[0m\n\u001b[1;32m    158\u001b[0m \u001b[0;34m\u001b[0m\u001b[0m\n\u001b[1;32m    159\u001b[0m \u001b[0;34m\u001b[0m\u001b[0m\n\u001b[0;32m--> 160\u001b[0;31m         \u001b[0mself\u001b[0m\u001b[0;34m.\u001b[0m\u001b[0msources\u001b[0m\u001b[0;34m.\u001b[0m\u001b[0mappend\u001b[0m\u001b[0;34m(\u001b[0m\u001b[0;34m[\u001b[0m\u001b[0;34m'jbndry'\u001b[0m\u001b[0;34m,\u001b[0m \u001b[0mindex\u001b[0m\u001b[0;34m,\u001b[0m \u001b[0mE_range\u001b[0m\u001b[0;34m,\u001b[0m \u001b[0moption_1\u001b[0m\u001b[0;34m,\u001b[0m \u001b[0moption_2\u001b[0m\u001b[0;34m,\u001b[0m \u001b[0mvalues\u001b[0m\u001b[0;34m,\u001b[0m \u001b[0mnodes\u001b[0m\u001b[0;34m,\u001b[0m \u001b[0mself\u001b[0m\u001b[0;34m.\u001b[0m\u001b[0mlasray_lis\u001b[0m\u001b[0;34m]\u001b[0m\u001b[0;34m)\u001b[0m\u001b[0;34m\u001b[0m\u001b[0;34m\u001b[0m\u001b[0m\n\u001b[0m\u001b[1;32m    161\u001b[0m \u001b[0;34m\u001b[0m\u001b[0m\n\u001b[1;32m    162\u001b[0m     \u001b[0;32mdef\u001b[0m \u001b[0msources_source_jnu\u001b[0m\u001b[0;34m(\u001b[0m\u001b[0mself\u001b[0m\u001b[0;34m,\u001b[0m \u001b[0mE_range\u001b[0m \u001b[0;34m:\u001b[0m \u001b[0mlist\u001b[0m\u001b[0;34m,\u001b[0m \u001b[0moption_1\u001b[0m \u001b[0;34m:\u001b[0m \u001b[0mstr\u001b[0m\u001b[0;34m,\u001b[0m \u001b[0moption_2\u001b[0m \u001b[0;34m:\u001b[0m \u001b[0mstr\u001b[0m\u001b[0;34m,\u001b[0m \u001b[0mvalues\u001b[0m \u001b[0;34m:\u001b[0m \u001b[0mlist\u001b[0m\u001b[0;34m,\u001b[0m \u001b[0mnodes\u001b[0m \u001b[0;34m:\u001b[0m \u001b[0mlist\u001b[0m\u001b[0;34m)\u001b[0m\u001b[0;34m:\u001b[0m\u001b[0;34m\u001b[0m\u001b[0;34m\u001b[0m\u001b[0m\n",
      "\u001b[0;31mAttributeError\u001b[0m: 'User_input' object has no attribute 'lasray_lis'"
     ]
    }
   ],
   "source": [
    "# Here we reproduce lasfoam.gen from the test folder\n",
    "\n",
    "def lasfoam(source):\n",
    "\n",
    "    gen2 = generator_object.User_input()\n",
    "\n",
    "    N0, N1 = 1, 21 #number of nodes is 20\n",
    "    DN, DR = 10, .1\n",
    "    E1, E2 = 4.68, 4.69\n",
    "    TE, rho = 2.0, 0.003\n",
    "    E1, E2 = 4.68, 4.68*1.001\n",
    "    HPEV = 4.135667516e-15\n",
    "    mult =  HPEV / (E2 - E1)\n",
    "    RSPOT = .1\n",
    "    ELASER, TLASER = 1000, 2e-9\n",
    "    ILASER = 10**7*ELASER/(TLASER*np.pi*RSPOT**2)\n",
    "    \n",
    "    gen2.materials_atom(index = 1, quantum_n_max = 3, element= \"h\")    \n",
    "    gen2.materials_atom(index = 1, quantum_n_max = 3, element= \"c\")\n",
    "\n",
    "    gen2.materials_region(nodes = [N0, N1], elec_temp = TE)\n",
    "    gen2.materials_region_rho(rho)\n",
    "    gen2.materials_region_element(index = 1, initial_ion_population = 1.)\n",
    "    gen2.materials_region_element(index = 2, initial_ion_population = 1.)\n",
    "\n",
    "    gen2.geometry(type = 'slab')\n",
    "    gen2.geometry_nodes(coordinate= \"r\", scaling_type  = \"lin\", nodes = [N0, N1], nodes_range=[0,DR])\n",
    "\n",
    "    gen2.radiation_ebins(n_boundaries = 61, start = 0.1, end = 10**(5))\n",
    "    gen2.radiation_angles(n_rays = 3)\n",
    "\n",
    "    gen2.controls(t_start=0., t_end = 3e-9, restart = True)\n",
    "    gen2.controls_history(id = 1, value_mutiplier = ILASER, time_multiplier = TLASER)\n",
    "    gen2.controls_history_tv(time = 0., value = 1)\n",
    "    gen2.controls_history_tv(time = 1.0, value = 1.)\n",
    "    gen2.controls_history_tv(time = 1.0, value = 0.)\n",
    "\n",
    "    gen2.parameters(scattering_muliplier = 0,initial_timestep = 10**-13, minimum_timestep = 10**-14, maximum_timestep = 10**-10, time_between_snapshots=10**(-9))\n",
    "    gen2.popular_switches(temparture_calc_heating_rates=['temp calc = time dependant','heating rates = electronic'], max_iterations_per_timestep=10)\n",
    "\n",
    "    if source == 'SOURCE1':\n",
    "        gen2.sources_source_laser(laser_wavelength = 4, option_1= 'rate', option_2= 'history', values = [1,1], nodes= [N0, N1])\n",
    "\n",
    "    elif source == 'SOURCE2':\n",
    "        gen2.sources_source_jnu(E_range=[E1,E2], option_1= 'rate', option_2= 'history', values = [1,mult], nodes= [N0, N1])\n",
    "\n",
    "    elif source == 'SOURCE3':\n",
    "        gen2.sources_source_jbndry(index = 1, E_range= [E1, E2], option_1= 'rate', option_2= 'history',values = [1,mult])\n",
    "        gen2.sources_boundary(package='radiation', type = 'streaming', nodes= [1, 0, N1, 'xfile'], value = 1, mult = 1)\n",
    "        gen2.popular_switches(temparture_calc_heating_rates=['temp calc = time dependant','heating rates = electronic'], \n",
    "                              max_iterations_per_timestep = 10, continuum_transfer='do steady-state and use integral formalism formalism')\n",
    "\n",
    "    elif source == 'SOURCE4':\n",
    "        gen2.sources_source_jbndry(index = 1, E_range= [E1, E2], option_1= 'rate', option_2= 'history',values = [1,mult])\n",
    "        gen2.sources_boundary(package='radiation', type = 'streaming', nodes= [1, 0, N1, 'xfile'], value = 1, mult = 1)\n",
    "        gen2.popular_switches(continuum_transfer_evolves_temp = True)\n",
    "        gen2.sources_rswitch(radiation_transfer_algorithm1d= 'do transport using integral formalism', assume_NLTE= True)  \n",
    "    \n",
    "    return gen2\n",
    "\n",
    "\n",
    "gen2 = lasfoam('SOURCE4')\n",
    "name = 'checking_lasfoam4'\n",
    "write_run_plot.all(name, gen2, longprint=False, plot_duplicates= False)\n"
   ]
  },
  {
   "cell_type": "code",
   "execution_count": null,
   "metadata": {},
   "outputs": [
    {
     "name": "stdout",
     "output_type": "stream",
     "text": [
      "\n",
      "writing to /home/brewster/Desktop/bowie/trial0/trial0.gen\n",
      "running cretin with trial0\n",
      "\n",
      "writing to /home/brewster/Desktop/bowie/trial1/trial1.gen\n",
      "running cretin with trial1\n",
      "\n",
      "writing to /home/brewster/Desktop/bowie/trial2/trial2.gen\n",
      "running cretin with trial2\n",
      "\n",
      "writing to /home/brewster/Desktop/bowie/trial3/trial3.gen\n",
      "running cretin with trial3\n",
      "\n",
      "writing to /home/brewster/Desktop/bowie/trial4/trial4.gen\n",
      "running cretin with trial4\n",
      "\n",
      "writing to /home/brewster/Desktop/bowie/trial5/trial5.gen\n",
      "running cretin with trial5\n",
      "multiplot to /home/brewster/Desktop/bowie/trials_mutiplot\n"
     ]
    }
   ],
   "source": [
    "# here we plot mutiple simulations into one plot to compare them\n",
    "# first we create our generic object\n",
    "def sim(var):\n",
    "\n",
    "    gen2 = generator_object.User_input()\n",
    "\n",
    "    rho, T_ev, Tkelvin = 6.9, 30*var, 512,  \n",
    "    ne, z = 10**20, 12\n",
    "    N0, N1 = 1, 41 #We are operating in 1d wih 40 nodes\n",
    "    tin_n = 50\n",
    "    E1, E2 = 4, 4.7 # the laser energies\n",
    "    DN, DR = 10, .1\n",
    "\n",
    "    gen2.materials_atom(index = 1, quantum_n_max = 3, element= \"Sn\")\n",
    "    gen2.materials_region(nodes = [N0, N1], elec_temp = T_ev)\n",
    "    gen2.materials_region_rho(rho)\n",
    "    gen2.materials_region_background(ion_density = ne, electron_density = ne, average_charge = z, average_charge_squared=z**2, avg_atomic_number = tin_n )\n",
    "    gen2.materials_region_element(index = 1, initial_ion_population = ne )\n",
    "\n",
    "    gen2.geometry(type = 'slab')\n",
    "    gen2.geometry_nodes(coordinate= \"r\", scaling_type  = \"lin\", nodes = [N0, N1], nodes_range=[0,DR])\n",
    "\n",
    "    gen2.radiation_ebins(n_boundaries = 121, start = 10**-5, end = 10**(5))\n",
    "    gen2.radiation_angles(n_rays = 3)\n",
    "\n",
    "    gen2.controls(t_start=0., t_end=3*10**-6, restart = True)\n",
    "    gen2.popular_switches(timestep_between_snapshot = 5)\n",
    "    return gen2\n",
    "\n",
    "\n",
    "i0, iend = 0,6\n",
    "trials = []\n",
    "name = 'trial'\n",
    "# Here i showcase the mutiplot functionality automatically putting all the data into one plot per type\n",
    "for i in range(i0,iend):\n",
    "\n",
    "    trial = name+str(i)\n",
    "    trials.append(trial)\n",
    "    variable = 2**i\n",
    "    gen2 = sim(variable)\n",
    "    write_run_plot.write(name = name+str(i), object = gen2)\n",
    "    write_run_plot.run(name = name+str(i), longprint=False)\n",
    "\n",
    "serial_sim_tools.plot_all('trials_mutiplot', trials)\n"
   ]
  },
  {
   "cell_type": "code",
   "execution_count": null,
   "metadata": {},
   "outputs": [
    {
     "name": "stdout",
     "output_type": "stream",
     "text": [
      "\n",
      "writing to /home/brewster/Desktop/bowie/combinatorics_sim_1_4_2/combinatorics_sim_1_4_2.gen\n",
      "running cretin with combinatorics_sim_1_4_2\n",
      "\n",
      "writing to /home/brewster/Desktop/bowie/combinatorics_sim_1_4_7/combinatorics_sim_1_4_7.gen\n",
      "running cretin with combinatorics_sim_1_4_7\n",
      "\n",
      "writing to /home/brewster/Desktop/bowie/combinatorics_sim_1_5_2/combinatorics_sim_1_5_2.gen\n",
      "running cretin with combinatorics_sim_1_5_2\n",
      "\n",
      "writing to /home/brewster/Desktop/bowie/combinatorics_sim_1_5_7/combinatorics_sim_1_5_7.gen\n",
      "running cretin with combinatorics_sim_1_5_7\n",
      "\n",
      "writing to /home/brewster/Desktop/bowie/combinatorics_sim_2_4_2/combinatorics_sim_2_4_2.gen\n",
      "running cretin with combinatorics_sim_2_4_2\n",
      "\n",
      "writing to /home/brewster/Desktop/bowie/combinatorics_sim_2_4_7/combinatorics_sim_2_4_7.gen\n",
      "running cretin with combinatorics_sim_2_4_7\n",
      "\n",
      "writing to /home/brewster/Desktop/bowie/combinatorics_sim_2_5_2/combinatorics_sim_2_5_2.gen\n",
      "running cretin with combinatorics_sim_2_5_2\n",
      "\n",
      "writing to /home/brewster/Desktop/bowie/combinatorics_sim_2_5_7/combinatorics_sim_2_5_7.gen\n",
      "running cretin with combinatorics_sim_2_5_7\n",
      "multiplot to /home/brewster/Desktop/bowie/combinatorics_sim_multiplot\n"
     ]
    }
   ],
   "source": [
    "def sim1(var1, var2, var3):\n",
    "\n",
    "    gen2 = generator_object.User_input()\n",
    "\n",
    "    rho, T_ev, Tkelvin = 6.9*var1, 30*var2, 512*var3,  \n",
    "    ne, z = 10**20, 12\n",
    "    N0, N1 = 1, 41 #We are operating in 1d wih 40 nodes\n",
    "    tin_n = 50\n",
    "    E1, E2 = 4, 4.7 # the laser energies\n",
    "    DN, DR = 10, .1\n",
    "\n",
    "\n",
    "    gen2.materials_atom(index = 1, quantum_n_max = 3, element= \"Sn\")\n",
    "    gen2.materials_region(nodes = [N0, N1], elec_temp = T_ev)\n",
    "    gen2.materials_region_rho(rho)\n",
    "    gen2.materials_region_background(ion_density = ne, electron_density = ne, average_charge = z, average_charge_squared=z**2, avg_atomic_number = tin_n )\n",
    "    gen2.materials_region_element(index = 1, initial_ion_population = ne )\n",
    "\n",
    "    gen2.geometry(type = 'slab')\n",
    "    gen2.geometry_nodes(coordinate= \"r\", scaling_type  = \"lin\", nodes = [N0, N1], nodes_range=[0,DR])\n",
    "\n",
    "    gen2.radiation_ebins(n_boundaries = 121, start = 10**-5, end = 10**(5))\n",
    "    gen2.radiation_angles(n_rays = 3)\n",
    "\n",
    "    gen2.controls(t_start=0., t_end=3*10**-6, restart = True)\n",
    "    gen2.popular_switches(timestep_between_snapshot = 5)\n",
    "    return gen2\n",
    "\n",
    "# Here i showcase the combinatorcs functionality allowin the combination of any set of paramters for mutiplot\n",
    "vars1, vars2, vars3 = np.arange(1,3,1), np.arange(4,6,1), np.arange(2,12,5)\n",
    "arr = np.array([vars1, vars2, vars3], dtype=object)\n",
    "combinations = serial_sim_tools.combinatorics(arr = arr)\n",
    "names = []\n",
    "base_name = 'combinatorics_sim'\n",
    "\n",
    "for combination in combinations:\n",
    "    [var1,var2,var3] = combination\n",
    "    gen2 = sim1(var1, var2, var3)\n",
    "    name = f'{base_name}_{var1}_{var2}_{var3}'\n",
    "    names.append(name)\n",
    "    write_run_plot.write(name = name, object = gen2)\n",
    "    write_run_plot.run(name = name, longprint=False)\n",
    "\n",
    "serial_sim_tools.plot_all(f'{base_name}_multiplot', names)"
   ]
  },
  {
   "cell_type": "code",
   "execution_count": null,
   "metadata": {},
   "outputs": [
    {
     "name": "stdout",
     "output_type": "stream",
     "text": [
      "including some of \"element_or_transition, node, frequency_or_isosequence, direction_or_level, multiplier\" is ambigious and may lead to incorrect behaviour in \"add plots\"\n",
      "\n",
      "writing to /home/brewster/Desktop/bowie/trial1/trial1.gen\n",
      "running cretin with trial1\n",
      "including some of \"element_or_transition, node, frequency_or_isosequence, direction_or_level, multiplier\" is ambigious and may lead to incorrect behaviour in \"add plots\"\n",
      "\n",
      "writing to /home/brewster/Desktop/bowie/trial2/trial2.gen\n",
      "running cretin with trial2\n",
      "including some of \"element_or_transition, node, frequency_or_isosequence, direction_or_level, multiplier\" is ambigious and may lead to incorrect behaviour in \"add plots\"\n",
      "\n",
      "writing to /home/brewster/Desktop/bowie/trial3/trial3.gen\n",
      "running cretin with trial3\n",
      "multiplot to /home/brewster/Desktop/bowie/trials_mutiplot1\n",
      "including some of \"element_or_transition, node, frequency_or_isosequence, direction_or_level, multiplier\" is ambigious and may lead to incorrect behaviour in \"add plots\"\n",
      "\n",
      "writing to /home/brewster/Desktop/bowie/trial4/trial4.gen\n",
      "running cretin with trial4\n",
      "including some of \"element_or_transition, node, frequency_or_isosequence, direction_or_level, multiplier\" is ambigious and may lead to incorrect behaviour in \"add plots\"\n",
      "\n",
      "writing to /home/brewster/Desktop/bowie/trial5/trial5.gen\n",
      "running cretin with trial5\n",
      "including some of \"element_or_transition, node, frequency_or_isosequence, direction_or_level, multiplier\" is ambigious and may lead to incorrect behaviour in \"add plots\"\n",
      "\n",
      "writing to /home/brewster/Desktop/bowie/trial6/trial6.gen\n",
      "running cretin with trial6\n",
      "multiplot to /home/brewster/Desktop/bowie/trials_mutiplot2\n",
      "including some of \"element_or_transition, node, frequency_or_isosequence, direction_or_level, multiplier\" is ambigious and may lead to incorrect behaviour in \"add plots\"\n",
      "\n",
      "writing to /home/brewster/Desktop/bowie/trial7/trial7.gen\n",
      "running cretin with trial7\n",
      "including some of \"element_or_transition, node, frequency_or_isosequence, direction_or_level, multiplier\" is ambigious and may lead to incorrect behaviour in \"add plots\"\n",
      "\n",
      "writing to /home/brewster/Desktop/bowie/trial8/trial8.gen\n",
      "running cretin with trial8\n",
      "including some of \"element_or_transition, node, frequency_or_isosequence, direction_or_level, multiplier\" is ambigious and may lead to incorrect behaviour in \"add plots\"\n",
      "\n",
      "writing to /home/brewster/Desktop/bowie/trial9/trial9.gen\n",
      "running cretin with trial9\n",
      "multiplot to /home/brewster/Desktop/bowie/trials_mutiplot3\n"
     ]
    }
   ],
   "source": [
    "# Here i showcase the ability to add plots, and grouping together plots into diffrent multiplot files\n",
    "\n",
    "def tin(source, variable):\n",
    "\n",
    "    gen2 = generator_object.User_input()\n",
    "\n",
    "    N0, N1 = 1, 21 #number of nodes is 20\n",
    "    DR =  .1\n",
    "    TE, rho = 30.0, .002\n",
    "    E1, E2 = 4.68, 4.68*1.001\n",
    "    HPEV = 4.135667516e-15\n",
    "    mult =  HPEV / (E2 - E1)\n",
    "    RSPOT = .01\n",
    "    ELASER, TLASER = .06, 2e-9\n",
    "    ILASER = variable*10**7*ELASER/(TLASER*np.pi*RSPOT**2)\n",
    "    \n",
    "    gen2.materials_atom(index = 1, quantum_n_max = 3, element= \"sn\")    \n",
    "\n",
    "    gen2.materials_region(nodes = [N0, N1], elec_temp = TE)\n",
    "    gen2.materials_region_rho(rho)\n",
    "    gen2.materials_region_element(index = 1, initial_ion_population = 1.)\n",
    "\n",
    "\n",
    "    gen2.geometry(type = 'slab')\n",
    "    gen2.geometry_nodes(coordinate= \"r\", scaling_type  = \"lin\", nodes = [N0, N1], nodes_range=[0,DR])\n",
    "\n",
    "    gen2.radiation_ebins(n_boundaries = 101, start = 0.1, end = 10**(2))\n",
    "    gen2.radiation_angles(n_rays = 3)\n",
    "\n",
    "    gen2.controls(t_start=0., t_end = 3e-9, restart = True)\n",
    "    gen2.controls_history(id = 1, value_mutiplier = ILASER, time_multiplier = TLASER)\n",
    "    gen2.controls_history_tv(time = 0., value = 1)\n",
    "    gen2.controls_history_tv(time = 1.0, value = 1.)\n",
    "    gen2.controls_history_tv(time = 1.0, value = 0.)\n",
    "\n",
    "\n",
    "    gen2.parameters(scattering_muliplier = 0,initial_timestep = 10**-13, minimum_timestep = 10**-14, maximum_timestep = 10**-9, time_between_snapshots=10**(-9))\n",
    "    gen2.popular_switches(temparture_calc_heating_rates=['temp calc = time dependant','heating rates = electronic'], max_iterations_per_timestep=20)\n",
    "\n",
    "    gen2.add_plot(name = 'plotter', xvar = 'time', yvar = 'tiv')\n",
    "    gen2.add_plot(name = 'plotter1', xvar = 'time', yvar = 'tev')\n",
    "    gen2.add_plot(name = 'plotter2', xvar = 'time', yvar = 'rho')\n",
    "    gen2.add_plot(name = 'plotter3', xvar = 'time', yvar = 'tev',element_or_transition='1:N:DN')\n",
    "    gen2.add_plot(name = 'plotter4', xvar = 'time', yvar = 'tautot')\n",
    "    gen2.add_plot(name = 'plotter5', xvar = 'time', yvar = 'zbar')\n",
    "    gen2.add_plot(name = 'plotter6', xvar = 'time', yvar = 'nion')\n",
    "    gen2.add_plot(name = 'plotter7', xvar = 'time', yvar = 'ne')\n",
    "\n",
    "    if source == 'SOURCE1':\n",
    "        gen2.source_laser(laser_wavelength = 4, option_1= 'rate', option_2= 'history', values = [1,1], nodes= [N0, N1])\n",
    "\n",
    "    elif source == 'SOURCE2':\n",
    "        gen2.source_jnu(E_range=[E1,E2], option_1= 'rate', option_2= 'history', values = [1,mult], nodes= [N0, N1])\n",
    "\n",
    "    elif source == 'SOURCE3':\n",
    "        gen2.source_jbndry(index = 1, E_range= [E1, E2], option_1= 'rate', option_2= 'history',values = [1,mult])\n",
    "        gen2.source_boundary(package='radiation', type = 'streaming', nodes= [1, 0, N1, 'xfile'], value = 1, mult = mult)\n",
    "        gen2.popular_switches(temparture_calc_heating_rates=['temp calc = time dependant','heating rates = electronic'], \n",
    "                              max_iterations_per_timestep = 10, continuum_transfer='do steady-state and use integral formalism formalism')\n",
    "\n",
    "    elif source == 'SOURCE4':\n",
    "        gen2.source_jbndry(index = 1, E_range= [E1, E2], option_1= 'rate', option_2= 'history',values = [1,mult])\n",
    "        gen2.source_boundary(package='radiation', type = 'streaming', nodes= [1, 0, N1, 'xfile'], value = 1, mult = mult)\n",
    "        gen2.popular_switches(continuum_transfer_evolves_temp = True)\n",
    "        gen2.source_rswitch(radiation_transfer_algorithm1d= 'do transport using integral formalism', assume_NLTE= True)  \n",
    "    \n",
    "    return gen2\n",
    "\n",
    "i0 = 1\n",
    "trials = []\n",
    "name = 'trial'\n",
    "N, M = 3, 3 # this is the multiplot group size and number of groups\n",
    "iend = i0+M*N\n",
    "\n",
    "for i in range(i0,iend):\n",
    "    name_i = name+str(i)\n",
    "    trials.append(name_i)\n",
    "    variable = i\n",
    "    gen2 = tin('SOURCE1', variable)\n",
    "\n",
    "    write_run_plot.write(name = name_i, object = gen2)\n",
    "    write_run_plot.run(name = name_i, longprint=False)\n",
    "\n",
    "    if (i>0 and i%N == 0) or i == iend -1:\n",
    "        serial_sim_tools.plot_all(f'trials_mutiplot{int(i/N)}', trials)\n",
    "        trials = []\n",
    "\n"
   ]
  },
  {
   "cell_type": "code",
   "execution_count": null,
   "metadata": {},
   "outputs": [
    {
     "name": "stdout",
     "output_type": "stream",
     "text": [
      "['drop_add_plot', 'drop_geometry', 'drop_geometry_nodes', 'drop_geometry_product_mesh', 'drop_geometry_quad', 'drop_materials_atom', 'drop_materials_atom_modeltype', 'drop_materials_region', 'drop_materials_region_background', 'drop_materials_region_element', 'drop_materials_region_level', 'drop_materials_region_material', 'drop_materials_region_opacity', 'drop_materials_region_rho', 'drop_parameters', 'drop_popular_switches', 'drop_radiation_angles', 'drop_radiation_ebins', 'drop_radiation_lbins', 'drop_radiation_line', 'drop_source_boundary', 'drop_source_jbndry', 'drop_source_jnu', 'drop_source_laser', 'drop_source_lasray', 'drop_source_rswitch']\n"
     ]
    },
    {
     "data": {
      "application/vnd.jupyter.widget-view+json": {
       "model_id": "7871ff33bc304a6c91fef1c91969f327",
       "version_major": 2,
       "version_minor": 0
      },
      "text/plain": [
       "HBox(children=(FloatText(value=0.0, description='Entrance Position:', layout=Layout(width='200px')), FloatText…"
      ]
     },
     "metadata": {},
     "output_type": "display_data"
    }
   ],
   "source": [
    "from importlib import reload\n",
    "import generator_object, to_generator_string, search, paths, write_run_plot, serial_sim_tools, plt_file, generator_object_dropdowns #these python files should be in the same folder as cretin_main\n",
    "for obj in [generator_object, to_generator_string, search, paths, write_run_plot, serial_sim_tools, plt_file, generator_object_dropdowns]:\n",
    "    reload(obj)\n",
    "\n",
    "gen3 = generator_object_dropdowns.User_input()\n",
    "functions = [i for i in dir(gen3) if callable(getattr(gen3, i)) and not i.startswith(\"__\") and (\"drop\" in i)]\n",
    "print(functions)\n",
    "for method_name in functions:\n",
    "    method_to_call = getattr(gen3, method_name)\n",
    "    #method_to_call()\n",
    "\n",
    "\n",
    "\n",
    "gen3.drop_source_lasray()\n"
   ]
  },
  {
   "cell_type": "code",
   "execution_count": null,
   "metadata": {},
   "outputs": [
    {
     "data": {
      "text/plain": [
       "['boundary', ['radiation', 'flux', [1, 2, 3, 4], 3.0, 3.0], []]"
      ]
     },
     "execution_count": 224,
     "metadata": {},
     "output_type": "execute_result"
    }
   ],
   "source": [
    "gen3.source_boundaries"
   ]
  },
  {
   "cell_type": "code",
   "execution_count": null,
   "metadata": {},
   "outputs": [],
   "source": [
    "#TODO\n",
    "# check functionality of all region commands\n",
    "# add lasray functionality\n",
    "# turn dropdown functions into regular functions using chatgpt"
   ]
  },
  {
   "cell_type": "code",
   "execution_count": null,
   "metadata": {},
   "outputs": [
    {
     "name": "stdout",
     "output_type": "stream",
     "text": [
      "                             0\n",
      "lasray 0.11 1. 0. 1.         4\n",
      "lasray RLASER 1. 0. 1. FABS  1\n"
     ]
    }
   ],
   "source": [
    "search_for_word = 'lasray'\n",
    "search_inside_chapter = 'Controls'\n",
    "df = search.Generators().word(input = search_for_word, word_slicing = (0,10), print_path = False)\n",
    "print(df.to_string())"
   ]
  },
  {
   "cell_type": "code",
   "execution_count": null,
   "metadata": {},
   "outputs": [
    {
     "data": {
      "application/vnd.jupyter.widget-view+json": {
       "model_id": "a2891bcb4367437c9336b57a79166952",
       "version_major": 2,
       "version_minor": 0
      },
      "text/plain": [
       "HBox(children=(IntText(value=0, description='index:', layout=Layout(width='200px')), Text(value='', descriptio…"
      ]
     },
     "metadata": {},
     "output_type": "display_data"
    },
    {
     "data": {
      "application/vnd.jupyter.widget-view+json": {
       "model_id": "292a08140e64482e8be716eaba4e21cf",
       "version_major": 2,
       "version_minor": 0
      },
      "text/plain": [
       "HBox(children=(FloatText(value=0.0, description='Entrance Position:', layout=Layout(width='200px')), FloatText…"
      ]
     },
     "metadata": {},
     "output_type": "display_data"
    },
    {
     "data": {
      "application/vnd.jupyter.widget-view+json": {
       "model_id": "51ba428b527d4f19a4ebe7bfe9200818",
       "version_major": 2,
       "version_minor": 0
      },
      "text/plain": [
       "HBox(children=(FloatText(value=0.0, description='Entrance Position:', layout=Layout(width='200px')), FloatText…"
      ]
     },
     "metadata": {},
     "output_type": "display_data"
    },
    {
     "data": {
      "application/vnd.jupyter.widget-view+json": {
       "model_id": "a1c817de70c1494a985a3eabf6d2efa5",
       "version_major": 2,
       "version_minor": 0
      },
      "text/plain": [
       "HBox(children=(FloatText(value=0.0, description='Entrance Position:', layout=Layout(width='200px')), FloatText…"
      ]
     },
     "metadata": {},
     "output_type": "display_data"
    },
    {
     "data": {
      "application/vnd.jupyter.widget-view+json": {
       "model_id": "5c0f73ef077045439ae3793b2b4e24b2",
       "version_major": 2,
       "version_minor": 0
      },
      "text/plain": [
       "HBox(children=(FloatText(value=0.0, description='laser wavelength:', layout=Layout(width='200px')), Dropdown(d…"
      ]
     },
     "metadata": {},
     "output_type": "display_data"
    },
    {
     "data": {
      "application/vnd.jupyter.widget-view+json": {
       "model_id": "feee3f3585e7410e93960962b4ed916c",
       "version_major": 2,
       "version_minor": 0
      },
      "text/plain": [
       "HBox(children=(FloatText(value=0.0, description='Entrance Position:', layout=Layout(width='200px')), FloatText…"
      ]
     },
     "metadata": {},
     "output_type": "display_data"
    }
   ],
   "source": [
    "#lasray testing\n",
    "\n",
    "\n",
    "gen3.drop_source_lasray()\n",
    "\n",
    "gen3.drop_source_lasray()\n",
    "gen3.drop_source_lasray()\n",
    "\n",
    "gen3.drop_source_laser()\n",
    "gen3.drop_source_lasray()"
   ]
  },
  {
   "cell_type": "code",
   "execution_count": null,
   "metadata": {},
   "outputs": [],
   "source": [
    "from importlib import reload\n",
    "import generator_object, to_generator_string, search, paths, write_run_plot, serial_sim_tools, plt_file, generator_object_dropdowns #these python files should be in the same folder as cretin_main\n",
    "for obj in [generator_object, to_generator_string, search, paths, write_run_plot, serial_sim_tools, plt_file, generator_object_dropdowns]:\n",
    "    reload(obj)\n",
    "\n",
    "#gen3 = generator_object_dropdowns.User_input()\n",
    "\n",
    "\n"
   ]
  }
 ],
 "metadata": {
  "kernelspec": {
   "display_name": "base",
   "language": "python",
   "name": "python3"
  },
  "language_info": {
   "codemirror_mode": {
    "name": "ipython",
    "version": 3
   },
   "file_extension": ".py",
   "mimetype": "text/x-python",
   "name": "python",
   "nbconvert_exporter": "python",
   "pygments_lexer": "ipython3",
   "version": "3.9.13"
  },
  "orig_nbformat": 4,
  "vscode": {
   "interpreter": {
    "hash": "dbf8f17e5f429e2b4709ff3b117dd239b5a5f6019ed64a0c5a4abac03c19c3d1"
   }
  }
 },
 "nbformat": 4,
 "nbformat_minor": 2
}
