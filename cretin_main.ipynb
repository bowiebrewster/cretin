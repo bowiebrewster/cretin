{
 "cells": [
  {
   "attachments": {},
   "cell_type": "markdown",
   "metadata": {},
   "source": [
    "This is the cretin main file where using the functionality of the generator object class and the to generator class easy to read cretin code can be written "
   ]
  },
  {
   "cell_type": "code",
   "execution_count": 25,
   "metadata": {},
   "outputs": [
    {
     "name": "stdout",
     "output_type": "stream",
     "text": [
      "{'ai': True, 'cycle_0': True, 'cycle_1': True, 'cycle_2': True, 'cycle_3': True, 'cycle_4': True, 'cycle_5': True, 'cycle_6': True, 'cycle_7': True, 'cycle_8': True, 'eav': True, 'elev_1': True, 'emis_0': True, 'emis_1': True, 'emis_2': True, 'emis_3': True, 'emis_4': True, 'emis_5': True, 'emis_6': True, 'emis_7': True, 'emis_8': True, 'ev': True, 'geometry': True, 'iso_1': True, 'jnu_0': True, 'jnu_1': True, 'jnu_2': True, 'jnu_3': True, 'jnu_4': True, 'jnu_5': True, 'jnu_6': True, 'jnu_7': True, 'jnu_8': True, 'kappa_0': True, 'kappa_1': True, 'kappa_2': True, 'kappa_3': True, 'kappa_4': True, 'kappa_5': True, 'kappa_6': True, 'kappa_7': True, 'kappa_8': True, 'model_id': True, 'ne_0': True, 'ne_1': True, 'ne_2': True, 'ne_3': True, 'ne_4': True, 'ne_5': True, 'ne_6': True, 'ne_7': True, 'ne_8': True, 'ngroup': True, 'ni_1_0': True, 'ni_1_1': True, 'ni_1_2': True, 'ni_1_3': True, 'ni_1_4': True, 'ni_1_5': True, 'ni_1_6': True, 'ni_1_7': True, 'ni_1_8': True, 'niso_1': True, 'nlev_1': True, 'nr': True, 'ntimes': True, 'nz': True, 'rho_0': True, 'rho_1': True, 'rho_2': True, 'rho_3': True, 'rho_4': True, 'rho_5': True, 'rho_6': True, 'rho_7': True, 'rho_8': True, 'symmetry': True, 'te_0': True, 'te_1': True, 'te_2': True, 'te_3': True, 'te_4': True, 'te_5': True, 'te_6': True, 'te_7': True, 'te_8': True, 'ti_0': True, 'ti_1': True, 'ti_2': True, 'ti_3': True, 'ti_4': True, 'ti_5': True, 'ti_6': True, 'ti_7': True, 'ti_8': True, 'time_0': True, 'time_1': True, 'time_2': True, 'time_3': True, 'time_4': True, 'time_5': True, 'time_6': True, 'time_7': True, 'time_8': True, 'times': True, 'tr_0': True, 'tr_1': True, 'tr_2': True, 'tr_3': True, 'tr_4': True, 'tr_5': True, 'tr_6': True, 'tr_7': True, 'tr_8': True, 'y_1_0': True, 'y_1_1': True, 'y_1_2': True, 'y_1_3': True, 'y_1_4': True, 'y_1_5': True, 'y_1_6': True, 'y_1_7': True, 'y_1_8': True, 'yiso_1_0': True, 'yiso_1_1': True, 'yiso_1_2': True, 'yiso_1_3': True, 'yiso_1_4': True, 'yiso_1_5': True, 'yiso_1_6': True, 'yiso_1_7': True, 'yiso_1_8': True, 'zi': True}\n"
     ]
    }
   ],
   "source": [
    "from importlib import reload\n",
    "import generator_object, to_generator_string, search, paths, write_run_plot, serial_sim_tools #these python classes should be in the same folder as cretin_main\n",
    "for obj in [generator_object, to_generator_string, search, paths, write_run_plot, serial_sim_tools]:\n",
    "    reload(obj)\n",
    "\n",
    "import numpy as np\n",
    "# These are all the functions inside the generator object class\n",
    "gen_object = [i for i in dir(generator_object.User_input()) if i[0:2] != '__']\n",
    "#print(gen_object)\n",
    "\n",
    "# all the function inside the to_generator file \n",
    "gen_to_file = [i for i in dir(to_generator_string.Text_generator(generator_object.User_input())) if i[0:2] != '__']\n",
    "#print(gen_to_file)"
   ]
  },
  {
   "cell_type": "code",
   "execution_count": 26,
   "metadata": {},
   "outputs": [],
   "source": [
    "# This allows us to find frequntly used terms in the generator files, \n",
    "# To be specific the lines of text in the generator files get sliced on \" \" and then selected by the input, f.e 'alias'\n",
    "# Then a histogram gets made of the most common results\n",
    "# similarly for most used words in a chapter (ie \"Radiation\", \"Geography\" etc)\n",
    "\n",
    "df = search.Generators().word(input = 'source', word_slicing = (0,2), print_path = False)\n",
    "#print(df.to_string())\n",
    "#print(search.Generators().chapter(input = 'Controls'))"
   ]
  },
  {
   "cell_type": "code",
   "execution_count": 27,
   "metadata": {},
   "outputs": [
    {
     "name": "stdout",
     "output_type": "stream",
     "text": [
      "\n",
      "writing too /home/brewster/Desktop/cretin.v2_19_test/test/trial2/trial2.gen\n",
      "running cretin with trial2\n",
      "plotting trial2 too /home/brewster/Desktop/cretin.v2_19_test/test/trial2/images\n",
      "plots trial2 finished at location /home/brewster/Desktop/cretin.v2_19_test/test/trial2/images\n"
     ]
    }
   ],
   "source": [
    "# Here we reproduce lasfoam.gen from the test foder\n",
    "gen2 = generator_object.User_input()\n",
    "\n",
    "N0, N1 = 1, 21 #number of nodes is 20\n",
    "E1 = 4.68\n",
    "E2 = E1*1.001\n",
    "rho = 0.003\n",
    "\n",
    "gen2.materials_atom(index = 1, quantum_n_max = 3, element= \"h\")\n",
    "gen2.materials_atom(index = 2, quantum_n_max = 3, element= \"c\")\n",
    "gen2.materials_region(nodes = [N0, N1], elec_temp = 2.1)\n",
    "gen2.materials_region_rho(rho)\n",
    "gen2.materials_region_element(index = 1, initial_ion_population = 1)\n",
    "gen2.materials_region_element(index = 2, initial_ion_population = 1)\n",
    "\n",
    "gen2.geometry_nodes(coordinate= \"x\", scaling_type  = \"lin\", nodes = [N0, N1], nodes_range=[0,10])\n",
    "\n",
    "gen2.radiation_ebins(n_boundaries = 61, start = 0.1, end = 10**(-5))\n",
    "gen2.radiation_angles(n_rays = 3)\n",
    "\n",
    "gen2.source_laser(laser_wavelength = 4, option_1= 'rate', option_2= 'history', laser_intensities = [1,1], nodes= [N0, N1])\n",
    "gen2.source_jnu(E_range=[E1,E2], option_1= 'rate', option_2= 'history', nodes= [N0, N1])\n",
    "gen2.source_jbndry(index = 1, E_range=[E1,E2], option_1= 'rate', option_2= 'history', nodes = [1,1], values=[1,2])\n",
    "\n",
    "gen2.popular_switches(timestep_between_snapshot = 5)\n",
    "\n",
    "gen2.controls(t_start=0., t_end=3*10**-6, restart = True)\n",
    "\n",
    "write_run_plot.all(name = 'trial2', object = gen2, longprint=False, plot_duplicates=False)"
   ]
  },
  {
   "cell_type": "code",
   "execution_count": 32,
   "metadata": {},
   "outputs": [
    {
     "name": "stdout",
     "output_type": "stream",
     "text": [
      "\n",
      "writing too /home/brewster/Desktop/cretin.v2_19_test/test/trial0/trial0.gen\n",
      "running cretin with trial0\n",
      "plotting trial0 too /home/brewster/Desktop/cretin.v2_19_test/test/trial0/images\n",
      "plots trial0 finished at location /home/brewster/Desktop/cretin.v2_19_test/test/trial0/images\n",
      "\n",
      "writing too /home/brewster/Desktop/cretin.v2_19_test/test/trial1/trial1.gen\n",
      "running cretin with trial1\n",
      "plotting trial1 too /home/brewster/Desktop/cretin.v2_19_test/test/trial1/images\n",
      "plots trial1 finished at location /home/brewster/Desktop/cretin.v2_19_test/test/trial1/images\n",
      "comparison of trial0 and trial1, number of identical arrays 133 number of changed arrays 0 number of comparision errors 0\n",
      "\n",
      "writing too /home/brewster/Desktop/cretin.v2_19_test/test/trial2/trial2.gen\n",
      "running cretin with trial2\n",
      "plotting trial2 too /home/brewster/Desktop/cretin.v2_19_test/test/trial2/images\n",
      "plots trial2 finished at location /home/brewster/Desktop/cretin.v2_19_test/test/trial2/images\n",
      "comparison of trial0 and trial2, number of identical arrays 133 number of changed arrays 0 number of comparision errors 0\n",
      "\n",
      "writing too /home/brewster/Desktop/cretin.v2_19_test/test/trial3/trial3.gen\n",
      "running cretin with trial3\n",
      "plotting trial3 too /home/brewster/Desktop/cretin.v2_19_test/test/trial3/images\n",
      "plots trial3 finished at location /home/brewster/Desktop/cretin.v2_19_test/test/trial3/images\n",
      "comparison of trial0 and trial3, number of identical arrays 133 number of changed arrays 0 number of comparision errors 0\n",
      "\n",
      "writing too /home/brewster/Desktop/cretin.v2_19_test/test/trial4/trial4.gen\n",
      "running cretin with trial4\n",
      "plotting trial4 too /home/brewster/Desktop/cretin.v2_19_test/test/trial4/images\n",
      "plots trial4 finished at location /home/brewster/Desktop/cretin.v2_19_test/test/trial4/images\n",
      "comparison of trial0 and trial4, number of identical arrays 133 number of changed arrays 0 number of comparision errors 0\n"
     ]
    }
   ],
   "source": [
    "#John's asignment\n",
    "gen2 = generator_object.User_input()\n",
    "\n",
    "rho, T_ev, Tkelvin, ne , z = 6.9, 30, 512,  10**20, 12\n",
    "N0, N1 = 1, 41 #We are operating in 1d wih 20 nodes\n",
    "tin_n = 50\n",
    "E1, E2 = 4.68, 4.7 # the laser energies\n",
    "\n",
    "gen2.materials_atom(index = 1, quantum_n_max = 3, element= \"Sn\")\n",
    "gen2.materials_region(nodes = [N0, N1], elec_temp = T_ev)\n",
    "gen2.materials_region_rho(rho)\n",
    "gen2.materials_region_background(ion_density = ne, electron_density = ne, average_charge = z, average_charge_squared=z**2, avg_atomic_number = tin_n )\n",
    "gen2.materials_region_element(index = 1, initial_ion_population = ne )\n",
    "gen2.geometry_nodes(coordinate= \"x\", scaling_type  = \"lin\", nodes = [N0, N1], nodes_range=[0,10])\n",
    "gen2.radiation_ebins(n_boundaries = 61, start = 10**-5, end = 10**(5))\n",
    "gen2.radiation_angles(n_rays = 1)\n",
    "gen2.controls(t_start=0., t_end=3*10**-6, restart = True)\n",
    "gen2.popular_switches(timestep_between_snapshot = 5)\n",
    "gen2.source_laser(laser_wavelength = 4, option_1= 'rate', option_2= 'history', laser_intensities = [1,1], nodes= [N0, N1])\n",
    "\n",
    "\n",
    "\n",
    "for i in range(5):\n",
    "    gen3 = gen2\n",
    "    gen3.sources =[]\n",
    "    variable = 10**i\n",
    "    # adding our variable to the simulation\n",
    "    gen3.source_laser(laser_wavelength = 1/variable, option_1= 'rate', option_2= 'history', laser_intensities = [1,1], nodes= [N0, N1])\n",
    "    write_run_plot.all(name = 'trial'+str(i), object = gen2, longprint = False, plot_duplicates = False)\n",
    "    if i>0:\n",
    "        org_trial, curr_trial = 'trial0', 'trial'+str(i)\n",
    "        # comparing data from the data dump for diffrent simulations with dependancy on 'variable'\n",
    "        compare_dict = serial_sim_tools.check_dependancy(org_trial, curr_trial)\n",
    "        val_lis = list(compare_dict.values())\n",
    "        print(f'comparison of {org_trial} and {curr_trial}, number of identical arrays {val_lis.count(True)} number of changed arrays {val_lis.count(False)} number of comparision errors {val_lis.count(\"comparison error\")}')"
   ]
  },
  {
   "cell_type": "code",
   "execution_count": 29,
   "metadata": {},
   "outputs": [
    {
     "ename": "TypeError",
     "evalue": "all() missing 2 required positional arguments: 'longprint' and 'plot_duplicates'",
     "output_type": "error",
     "traceback": [
      "\u001b[0;31m---------------------------------------------------------------------------\u001b[0m",
      "\u001b[0;31mTypeError\u001b[0m                                 Traceback (most recent call last)",
      "\u001b[0;32m/tmp/ipykernel_10580/3701638189.py\u001b[0m in \u001b[0;36m<module>\u001b[0;34m\u001b[0m\n\u001b[1;32m     21\u001b[0m \u001b[0mgen1\u001b[0m\u001b[0;34m.\u001b[0m\u001b[0mpopular_switches\u001b[0m\u001b[0;34m(\u001b[0m\u001b[0mcontinuum_transfer\u001b[0m\u001b[0;34m=\u001b[0m\u001b[0;34m'do steady-state continuum transfer'\u001b[0m\u001b[0;34m,\u001b[0m\u001b[0minclude_degeneracy\u001b[0m\u001b[0;34m=\u001b[0m\u001b[0;34m'include electron degeneracy'\u001b[0m\u001b[0;34m)\u001b[0m\u001b[0;34m\u001b[0m\u001b[0;34m\u001b[0m\u001b[0m\n\u001b[1;32m     22\u001b[0m \u001b[0;34m\u001b[0m\u001b[0m\n\u001b[0;32m---> 23\u001b[0;31m \u001b[0mwrite_run_plot\u001b[0m\u001b[0;34m.\u001b[0m\u001b[0mall\u001b[0m\u001b[0;34m(\u001b[0m\u001b[0mname\u001b[0m \u001b[0;34m=\u001b[0m \u001b[0;34m'trial1'\u001b[0m\u001b[0;34m,\u001b[0m \u001b[0mobject\u001b[0m \u001b[0;34m=\u001b[0m \u001b[0mgen1\u001b[0m\u001b[0;34m)\u001b[0m\u001b[0;34m\u001b[0m\u001b[0;34m\u001b[0m\u001b[0m\n\u001b[0m\u001b[1;32m     24\u001b[0m \u001b[0;34m\u001b[0m\u001b[0m\n",
      "\u001b[0;31mTypeError\u001b[0m: all() missing 2 required positional arguments: 'longprint' and 'plot_duplicates'"
     ]
    }
   ],
   "source": [
    "# reproducing detecterz.gen\n",
    "gen1 = generator_object.User_input()\n",
    "\n",
    "k1, k2 = 1, 21\n",
    "l1, l2 = 1, 11\n",
    "n2 = (k2*l2)/2 \n",
    "NI, NE, TE = 10**20, 10**20, 10**3\n",
    "R0, R1, Z0, Z1  = 0. , 1., -5, 5\n",
    "RD, ZD = R1 + .1, Z1 +.1\n",
    "MU1 = 10**-3\n",
    "MU2 = -1 + MU1\n",
    "PHI1, PHI2, PHI3 = 1.57, .785, .524\n",
    "\n",
    "gen1.materials_region(nodes = [k1, k2, l1, l2], elec_temp = 1.1)\n",
    "gen1.materials_region_background(k1, k2, l1, l2, TE)\n",
    "gen1.geometry(type = 'rz')\n",
    "gen1.geometry_quad(node_1 = [k1, k2], node_2= [l1, l2], x_cors = [R0, R1], y_cors = [Z0, Z1], ratios = [1,1])\n",
    "gen1.radiation_ebins(n_boundaries = 50, start = 100, end = 1000)\n",
    "gen1.radiation_angles(n_rays=3, n_angles= 15)\n",
    "gen1.controls(t_start=0, t_end=0)\n",
    "gen1.popular_switches(continuum_transfer='do steady-state continuum transfer',include_degeneracy='include electron degeneracy')\n",
    "\n",
    "write_run_plot.all(name = 'trial1', object = gen1)\n",
    "\n"
   ]
  }
 ],
 "metadata": {
  "kernelspec": {
   "display_name": "base",
   "language": "python",
   "name": "python3"
  },
  "language_info": {
   "codemirror_mode": {
    "name": "ipython",
    "version": 3
   },
   "file_extension": ".py",
   "mimetype": "text/x-python",
   "name": "python",
   "nbconvert_exporter": "python",
   "pygments_lexer": "ipython3",
   "version": "3.9.13"
  },
  "orig_nbformat": 4,
  "vscode": {
   "interpreter": {
    "hash": "dbf8f17e5f429e2b4709ff3b117dd239b5a5f6019ed64a0c5a4abac03c19c3d1"
   }
  }
 },
 "nbformat": 4,
 "nbformat_minor": 2
}
