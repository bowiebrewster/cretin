{
 "cells": [
  {
   "attachments": {},
   "cell_type": "markdown",
   "metadata": {},
   "source": [
    "This is the cretin main file where using the functionality of the generator object class and the to generator class easy to read cretin code can be written "
   ]
  },
  {
   "cell_type": "code",
   "execution_count": 14,
   "metadata": {},
   "outputs": [],
   "source": [
    "from importlib import reload\n",
    "import generator_object, to_generator_string, search, paths, write_run_plot #these python classes should be in the same folder as cretin_main\n",
    "for obj in [generator_object, to_generator_string, search, paths, write_run_plot]:\n",
    "    reload(obj)\n",
    "\n",
    "import numpy as np\n",
    "# These are all the functions inside the generator object class\n",
    "gen_object = [i for i in dir(generator_object.User_input()) if i[0:2] != '__']\n",
    "#print(gen_object)\n",
    "\n",
    "# all the function inside the to_generator file \n",
    "gen_to_file = [i for i in dir(to_generator_string.Text_generator(generator_object.User_input())) if i[0:2] != '__']\n",
    "#print(gen_to_file)"
   ]
  },
  {
   "cell_type": "code",
   "execution_count": 15,
   "metadata": {},
   "outputs": [],
   "source": [
    "# This allows us to find frequntly used terms in the generator files, \n",
    "# To be specific the lines of text in the generator files get sliced on \" \" and then selected by the input, f.e 'alias'\n",
    "# Then a histogram gets made of the most common results\n",
    "# similarly for most used words in a chapter (ie \"Radiation\", \"Geography\" etc)\n",
    "\n",
    "df = search.Generators().word(input = 'source', word_slicing = (0,2), print_path = False)\n",
    "#print(df.to_string())\n",
    "#print(search.Generators().chapter(input = 'Controls'))"
   ]
  },
  {
   "cell_type": "code",
   "execution_count": 16,
   "metadata": {},
   "outputs": [],
   "source": [
    "# Here we reproduce lasfoam.gen from the test foder\n",
    "gen2 = generator_object.User_input()\n",
    "\n",
    "N0, N1 = 1, 21 #number of nodes is 20\n",
    "E1 = 4.68\n",
    "E2 = E1*1.001\n",
    "rho = 0.003\n",
    "\n",
    "gen2.materials_atom(index = 1, quantum_n_max = 3, element= \"h\")\n",
    "gen2.materials_atom(index = 2, quantum_n_max = 3, element= \"c\")\n",
    "gen2.materials_region(nodes = [N0, N1], elec_temp = 2.1)\n",
    "gen2.materials_region_rho(rho)\n",
    "gen2.materials_region_element(index = 1, initial_ion_population = 1)\n",
    "gen2.materials_region_element(index = 2, initial_ion_population = 1)\n",
    "\n",
    "gen2.geometry_nodes(coordinate= \"x\", scaling_type  = \"lin\", nodes = [N0, N1], nodes_range=[0,10])\n",
    "\n",
    "gen2.radiation_ebins(n_boundaries = 61, start = 0.1, end = 10**(-5))\n",
    "gen2.radiation_angles(n_rays = 3)\n",
    "\n",
    "gen2.source_laser(laser_wavelength = 4, option_1= 'rate', option_2= 'history', laser_intensities = [1,1], nodes= [N0, N1])\n",
    "gen2.source_jnu(E_range=[E1,E2], option_1= 'rate', option_2= 'history', nodes= [N0, N1])\n",
    "gen2.source_jbndry(index = 1, E_range=[E1,E2], option_1= 'rate', option_2= 'history', nodes = [1,1], values=[1,2])\n",
    "\n",
    "gen2.popular_switches(timestep_between_snapshot = 5)\n",
    "\n",
    "gen2.controls(t_start=0., t_end=3*10**-6, restart = True)\n",
    "\n",
    "\n",
    "#write_run_plot.all(name = 'trial2', object = gen2)"
   ]
  },
  {
   "cell_type": "code",
   "execution_count": 17,
   "metadata": {},
   "outputs": [],
   "source": [
    "#John's asignment\n",
    "gen2 = generator_object.User_input()\n",
    "\n",
    "rho, T_ev, Tkelvin, ne , z = 6.9, 30, 512,  10**20, 12\n",
    "N0, N1 = 1, 41 #We are operating in 1d wih 20 nodes\n",
    "tin_n = 50\n",
    "E1, E2 = 4.68, 4.7 # the laser energies\n",
    "\n",
    "gen2.materials_atom(index = 1, quantum_n_max = 3, element= \"Sn\")\n",
    "gen2.materials_region(nodes = [N0, N1], elec_temp = T_ev)\n",
    "gen2.materials_region_rho(rho)\n",
    "gen2.materials_region_background(ion_density = ne, electron_density = ne, average_charge = z, average_charge_squared=z**2, avg_atomic_number = tin_n )\n",
    "gen2.materials_region_element(index = 1, initial_ion_population = ne )\n",
    "\n",
    "gen2.geometry_nodes(coordinate= \"x\", scaling_type  = \"lin\", nodes = [N0, N1], nodes_range=[0,10])\n",
    "\n",
    "gen2.radiation_ebins(n_boundaries = 61, start = 10**-5, end = 10**(5))\n",
    "gen2.radiation_angles(n_rays = 1)\n",
    "\n",
    "gen2.controls(t_start=0., t_end=3*10**-6, restart = True)\n",
    "gen2.popular_switches(timestep_between_snapshot = 5)\n",
    "\n",
    "gen2.source_laser(laser_wavelength = 4, option_1= 'rate', option_2= 'history', laser_intensities = [1,1], nodes= [N0, N1])\n",
    "\n",
    "\n",
    "\n",
    "#write_run_plot.all(name = 'trial2', object = gen2, longprint = False, plot_duplicates = False)\n"
   ]
  },
  {
   "cell_type": "code",
   "execution_count": 18,
   "metadata": {},
   "outputs": [],
   "source": [
    "# reproducing detecterz.gen\n",
    "gen1 = generator_object.User_input()\n",
    "\n",
    "k1, k2 = 1, 21\n",
    "l1, l2 = 1, 11\n",
    "n2 = (k2*l2)/2 \n",
    "NI, NE, TE = 10**20, 10**20, 10**3\n",
    "R0, R1, Z0, Z1  = 0. , 1., -5, 5\n",
    "RD, ZD = R1 + .1, Z1 +.1\n",
    "MU1 = 10**-3\n",
    "MU2 = -1 + MU1\n",
    "PHI1, PHI2, PHI3 = 1.57, .785, .524\n",
    "\n",
    "gen1.materials_region(nodes = [k1, k2, l1, l2], elec_temp = 1.1)\n",
    "gen1.materials_region_background(k1, k2, l1, l2, TE)\n",
    "gen1.geometry(type = 'rz')\n",
    "gen1.geometry_quad(node_1 = [k1, k2], node_2= [l1, l2], x_cors = [R0, R1], y_cors = [Z0, Z1], ratios = [1,1])\n",
    "gen1.radiation_ebins(n_boundaries = 50, start = 100, end = 1000)\n",
    "gen1.radiation_angles(n_rays=3, n_angles= 15)\n",
    "gen1.controls(t_start=0, t_end=0)\n",
    "gen1.popular_switches(continuum_transfer='do steady-state continuum transfer',include_degeneracy='include electron degeneracy')\n",
    "\n",
    "#write_run_plot.all(name = 'trial1', object = gen1)\n",
    "\n"
   ]
  }
 ],
 "metadata": {
  "kernelspec": {
   "display_name": "base",
   "language": "python",
   "name": "python3"
  },
  "language_info": {
   "codemirror_mode": {
    "name": "ipython",
    "version": 3
   },
   "file_extension": ".py",
   "mimetype": "text/x-python",
   "name": "python",
   "nbconvert_exporter": "python",
   "pygments_lexer": "ipython3",
   "version": "3.9.13"
  },
  "orig_nbformat": 4,
  "vscode": {
   "interpreter": {
    "hash": "dbf8f17e5f429e2b4709ff3b117dd239b5a5f6019ed64a0c5a4abac03c19c3d1"
   }
  }
 },
 "nbformat": 4,
 "nbformat_minor": 2
}
