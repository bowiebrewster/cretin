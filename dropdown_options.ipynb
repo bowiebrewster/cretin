{
 "cells": [
  {
   "cell_type": "code",
   "execution_count": 7,
   "metadata": {},
   "outputs": [
    {
     "data": {
      "application/vnd.jupyter.widget-view+json": {
       "model_id": "1504a633f0e84c459e022f175e3390cb",
       "version_major": 2,
       "version_minor": 0
      },
      "text/plain": [
       "Text(value='', description='E_range (list):', layout=Layout(width='300px'), placeholder='[1, 2, 3]')"
      ]
     },
     "metadata": {},
     "output_type": "display_data"
    },
    {
     "data": {
      "application/vnd.jupyter.widget-view+json": {
       "model_id": "1e6b51609460444aa24be28f712d8171",
       "version_major": 2,
       "version_minor": 0
      },
      "text/plain": [
       "Dropdown(description='option_1:', options=('value', 'rate', 'integral', 'initial'), value='value')"
      ]
     },
     "metadata": {},
     "output_type": "display_data"
    },
    {
     "data": {
      "application/vnd.jupyter.widget-view+json": {
       "model_id": "09d5d77f15b047b8ac23c875c16f598d",
       "version_major": 2,
       "version_minor": 0
      },
      "text/plain": [
       "Dropdown(description='option_2:', options=('xfile', 'history', 'profile', 'svlist', 'constant'), value='xfile'…"
      ]
     },
     "metadata": {},
     "output_type": "display_data"
    },
    {
     "data": {
      "application/vnd.jupyter.widget-view+json": {
       "model_id": "546594b5ca3b482599743d8ca1719b2e",
       "version_major": 2,
       "version_minor": 0
      },
      "text/plain": [
       "Text(value='', description='values (list):', layout=Layout(width='300px'), placeholder='[10, 20, 30]')"
      ]
     },
     "metadata": {},
     "output_type": "display_data"
    },
    {
     "data": {
      "application/vnd.jupyter.widget-view+json": {
       "model_id": "116483d61c8045dea90f761320402efc",
       "version_major": 2,
       "version_minor": 0
      },
      "text/plain": [
       "Text(value='', description='nodes (list):', layout=Layout(width='300px'), placeholder='[A, B, C]')"
      ]
     },
     "metadata": {},
     "output_type": "display_data"
    },
    {
     "data": {
      "application/vnd.jupyter.widget-view+json": {
       "model_id": "0a3e525696b940ed976d4a472735fdcb",
       "version_major": 2,
       "version_minor": 0
      },
      "text/plain": [
       "Button(description='Call Function', style=ButtonStyle())"
      ]
     },
     "metadata": {},
     "output_type": "display_data"
    },
    {
     "ename": "NameError",
     "evalue": "name 'p' is not defined",
     "output_type": "error",
     "traceback": [
      "\u001b[0;31m---------------------------------------------------------------------------\u001b[0m",
      "\u001b[0;31mNameError\u001b[0m                                 Traceback (most recent call last)",
      "\u001b[0;32m/tmp/ipykernel_26763/2425415407.py\u001b[0m in \u001b[0;36mon_button_click\u001b[0;34m(b)\u001b[0m\n\u001b[1;32m     51\u001b[0m \u001b[0;31m# Define a function to handle button click\u001b[0m\u001b[0;34m\u001b[0m\u001b[0;34m\u001b[0m\u001b[0m\n\u001b[1;32m     52\u001b[0m \u001b[0;32mdef\u001b[0m \u001b[0mon_button_click\u001b[0m\u001b[0;34m(\u001b[0m\u001b[0mb\u001b[0m\u001b[0;34m)\u001b[0m\u001b[0;34m:\u001b[0m\u001b[0;34m\u001b[0m\u001b[0;34m\u001b[0m\u001b[0m\n\u001b[0;32m---> 53\u001b[0;31m     \u001b[0mE_range_value\u001b[0m \u001b[0;34m=\u001b[0m \u001b[0meval\u001b[0m\u001b[0;34m(\u001b[0m\u001b[0mE_range_input\u001b[0m\u001b[0;34m.\u001b[0m\u001b[0mvalue\u001b[0m\u001b[0;34m)\u001b[0m\u001b[0;34m\u001b[0m\u001b[0;34m\u001b[0m\u001b[0m\n\u001b[0m\u001b[1;32m     54\u001b[0m     \u001b[0moption_1_value\u001b[0m \u001b[0;34m=\u001b[0m \u001b[0moption_1_dropdown\u001b[0m\u001b[0;34m.\u001b[0m\u001b[0mvalue\u001b[0m\u001b[0;34m\u001b[0m\u001b[0;34m\u001b[0m\u001b[0m\n\u001b[1;32m     55\u001b[0m     \u001b[0moption_2_value\u001b[0m \u001b[0;34m=\u001b[0m \u001b[0moption_2_dropdown\u001b[0m\u001b[0;34m.\u001b[0m\u001b[0mvalue\u001b[0m\u001b[0;34m\u001b[0m\u001b[0;34m\u001b[0m\u001b[0m\n",
      "\u001b[0;32m<string>\u001b[0m in \u001b[0;36m<module>\u001b[0;34m\u001b[0m\n",
      "\u001b[0;31mNameError\u001b[0m: name 'p' is not defined"
     ]
    },
    {
     "ename": "TypeError",
     "evalue": "source_jnu() missing 1 required positional argument: 'nodes'",
     "output_type": "error",
     "traceback": [
      "\u001b[0;31m---------------------------------------------------------------------------\u001b[0m",
      "\u001b[0;31mTypeError\u001b[0m                                 Traceback (most recent call last)",
      "\u001b[0;32m/tmp/ipykernel_26763/2425415407.py\u001b[0m in \u001b[0;36mon_button_click\u001b[0;34m(b)\u001b[0m\n\u001b[1;32m     57\u001b[0m     \u001b[0mnodes_value\u001b[0m \u001b[0;34m=\u001b[0m \u001b[0meval\u001b[0m\u001b[0;34m(\u001b[0m\u001b[0mnodes_input\u001b[0m\u001b[0;34m.\u001b[0m\u001b[0mvalue\u001b[0m\u001b[0;34m)\u001b[0m\u001b[0;34m\u001b[0m\u001b[0;34m\u001b[0m\u001b[0m\n\u001b[1;32m     58\u001b[0m \u001b[0;34m\u001b[0m\u001b[0m\n\u001b[0;32m---> 59\u001b[0;31m     \u001b[0msource_jnu\u001b[0m\u001b[0;34m(\u001b[0m\u001b[0mE_range_value\u001b[0m\u001b[0;34m,\u001b[0m \u001b[0moption_1_value\u001b[0m\u001b[0;34m,\u001b[0m \u001b[0moption_2_value\u001b[0m\u001b[0;34m,\u001b[0m \u001b[0mvalues_value\u001b[0m\u001b[0;34m,\u001b[0m \u001b[0mnodes_value\u001b[0m\u001b[0;34m)\u001b[0m\u001b[0;34m\u001b[0m\u001b[0;34m\u001b[0m\u001b[0m\n\u001b[0m\u001b[1;32m     60\u001b[0m \u001b[0;34m\u001b[0m\u001b[0m\n\u001b[1;32m     61\u001b[0m \u001b[0mbutton\u001b[0m\u001b[0;34m.\u001b[0m\u001b[0mon_click\u001b[0m\u001b[0;34m(\u001b[0m\u001b[0mon_button_click\u001b[0m\u001b[0;34m)\u001b[0m\u001b[0;34m\u001b[0m\u001b[0;34m\u001b[0m\u001b[0m\n",
      "\u001b[0;31mTypeError\u001b[0m: source_jnu() missing 1 required positional argument: 'nodes'"
     ]
    },
    {
     "ename": "TypeError",
     "evalue": "source_jnu() missing 1 required positional argument: 'nodes'",
     "output_type": "error",
     "traceback": [
      "\u001b[0;31m---------------------------------------------------------------------------\u001b[0m",
      "\u001b[0;31mTypeError\u001b[0m                                 Traceback (most recent call last)",
      "\u001b[0;32m/tmp/ipykernel_26763/2425415407.py\u001b[0m in \u001b[0;36mon_button_click\u001b[0;34m(b)\u001b[0m\n\u001b[1;32m     57\u001b[0m     \u001b[0mnodes_value\u001b[0m \u001b[0;34m=\u001b[0m \u001b[0meval\u001b[0m\u001b[0;34m(\u001b[0m\u001b[0mnodes_input\u001b[0m\u001b[0;34m.\u001b[0m\u001b[0mvalue\u001b[0m\u001b[0;34m)\u001b[0m\u001b[0;34m\u001b[0m\u001b[0;34m\u001b[0m\u001b[0m\n\u001b[1;32m     58\u001b[0m \u001b[0;34m\u001b[0m\u001b[0m\n\u001b[0;32m---> 59\u001b[0;31m     \u001b[0msource_jnu\u001b[0m\u001b[0;34m(\u001b[0m\u001b[0mE_range_value\u001b[0m\u001b[0;34m,\u001b[0m \u001b[0moption_1_value\u001b[0m\u001b[0;34m,\u001b[0m \u001b[0moption_2_value\u001b[0m\u001b[0;34m,\u001b[0m \u001b[0mvalues_value\u001b[0m\u001b[0;34m,\u001b[0m \u001b[0mnodes_value\u001b[0m\u001b[0;34m)\u001b[0m\u001b[0;34m\u001b[0m\u001b[0;34m\u001b[0m\u001b[0m\n\u001b[0m\u001b[1;32m     60\u001b[0m \u001b[0;34m\u001b[0m\u001b[0m\n\u001b[1;32m     61\u001b[0m \u001b[0mbutton\u001b[0m\u001b[0;34m.\u001b[0m\u001b[0mon_click\u001b[0m\u001b[0;34m(\u001b[0m\u001b[0mon_button_click\u001b[0m\u001b[0;34m)\u001b[0m\u001b[0;34m\u001b[0m\u001b[0;34m\u001b[0m\u001b[0m\n",
      "\u001b[0;31mTypeError\u001b[0m: source_jnu() missing 1 required positional argument: 'nodes'"
     ]
    }
   ],
   "source": [
    "import ipywidgets as widgets\n",
    "from IPython.display import display\n",
    "from ipywidgets import HBox\n",
    "\n",
    "\n",
    "# Define your function\n",
    "def source_jnu(self, E_range, option_1, option_2, values, nodes):\n",
    "\n",
    "    self.lasray_lis = []\n",
    "    self.sources.append(['jnu', E_range, option_1, option_2, values, nodes, self.lasray_lis])\n",
    "\n",
    "\n",
    "# Create interactive widgets\n",
    "E_range_input = widgets.Text(\n",
    "    description=\"E_range (list):\",\n",
    "    placeholder=\"[1, 2, 3]\",\n",
    "    layout=widgets.Layout(width=\"300px\")\n",
    ")\n",
    "\n",
    "option_1_dropdown = widgets.Dropdown(\n",
    "    options=['value', 'rate', 'integral', 'initial'],\n",
    "    description=\"option_1:\"\n",
    ")\n",
    "\n",
    "option_2_dropdown = widgets.Dropdown(\n",
    "    options=['xfile', 'history', 'profile', 'svlist', 'constant'],\n",
    "    description=\"option_2:\"\n",
    ")\n",
    "\n",
    "values_input = widgets.Text(\n",
    "    description=\"values (list):\",\n",
    "    placeholder=\"[10, 20, 30]\",\n",
    "    layout=widgets.Layout(width=\"300px\")\n",
    ")\n",
    "\n",
    "nodes_input = widgets.Text(\n",
    "    description=\"nodes (list):\",\n",
    "    placeholder=\"[A, B, C]\",\n",
    "    layout=widgets.Layout(width=\"300px\")\n",
    ")\n",
    "\n",
    "# Create a button to call the function\n",
    "button = widgets.Button(description=\"Call Function\")\n",
    "\n",
    "# Define a function to handle button click\n",
    "def on_button_click(b):\n",
    "    E_range_value = eval(E_range_input.value)\n",
    "    option_1_value = option_1_dropdown.value\n",
    "    option_2_value = option_2_dropdown.value\n",
    "    values_value = eval(values_input.value)\n",
    "    nodes_value = eval(nodes_input.value)\n",
    "    \n",
    "    source_jnu(E_range_value, option_1_value, option_2_value, values_value, nodes_value)\n",
    "\n",
    "button.on_click(on_button_click)\n",
    "\n",
    "# Display the widgets\n",
    "display(E_range_input, option_1_dropdown, option_2_dropdown, values_input, nodes_input, button)\n"
   ]
  }
 ],
 "metadata": {
  "kernelspec": {
   "display_name": "base",
   "language": "python",
   "name": "python3"
  },
  "language_info": {
   "codemirror_mode": {
    "name": "ipython",
    "version": 3
   },
   "file_extension": ".py",
   "mimetype": "text/x-python",
   "name": "python",
   "nbconvert_exporter": "python",
   "pygments_lexer": "ipython3",
   "version": "3.9.13"
  },
  "orig_nbformat": 4
 },
 "nbformat": 4,
 "nbformat_minor": 2
}
